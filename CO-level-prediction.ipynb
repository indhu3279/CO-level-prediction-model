{
  "nbformat": 4,
  "nbformat_minor": 0,
  "metadata": {
    "colab": {
      "provenance": []
    },
    "kernelspec": {
      "name": "python3",
      "display_name": "Python 3"
    },
    "language_info": {
      "name": "python"
    }
  },
  "cells": [
    {
      "cell_type": "code",
      "execution_count": null,
      "metadata": {
        "id": "6XWQiQ6VTpwh"
      },
      "outputs": [],
      "source": [
        "import pandas as pd\n",
        "import numpy as np\n",
        "import matplotlib.pyplot as plt\n",
        "import seaborn as sns"
      ]
    },
    {
      "cell_type": "code",
      "source": [
        "b1=pd.read_excel('Book1.xlsx')"
      ],
      "metadata": {
        "id": "k4dHgx-wVQLt"
      },
      "execution_count": null,
      "outputs": []
    },
    {
      "cell_type": "code",
      "source": [
        "b3=pd.read_excel('Book3.xlsx')"
      ],
      "metadata": {
        "id": "_qLWbNikVZD9"
      },
      "execution_count": null,
      "outputs": []
    },
    {
      "cell_type": "code",
      "source": [
        "b5=pd.read_excel('Book5.xlsx')"
      ],
      "metadata": {
        "id": "BW5fewrnXBc0"
      },
      "execution_count": null,
      "outputs": []
    },
    {
      "cell_type": "code",
      "source": [
        "b4=pd.read_excel('Book(i4).xlsx')"
      ],
      "metadata": {
        "id": "HhlMrrlSXFni"
      },
      "execution_count": null,
      "outputs": []
    },
    {
      "cell_type": "code",
      "source": [
        "b48 = pd.read_excel(\"Book(i48).xlsx\")"
      ],
      "metadata": {
        "id": "nyWzQLaFXMsc"
      },
      "execution_count": null,
      "outputs": []
    },
    {
      "cell_type": "code",
      "source": [
        "b1.shape"
      ],
      "metadata": {
        "colab": {
          "base_uri": "https://localhost:8080/"
        },
        "id": "kFRMEI2LXW8v",
        "outputId": "7136bc1f-74f9-4898-d6b5-bc47c85d8f01"
      },
      "execution_count": null,
      "outputs": [
        {
          "output_type": "execute_result",
          "data": {
            "text/plain": [
              "(295881, 6)"
            ]
          },
          "metadata": {},
          "execution_count": 41
        }
      ]
    },
    {
      "cell_type": "code",
      "source": [
        "b3.shape"
      ],
      "metadata": {
        "colab": {
          "base_uri": "https://localhost:8080/"
        },
        "id": "8lhYJhbqXkNu",
        "outputId": "e3ab90de-cda1-4c8c-f190-0f457b4b92ed"
      },
      "execution_count": null,
      "outputs": [
        {
          "output_type": "execute_result",
          "data": {
            "text/plain": [
              "(295719, 4)"
            ]
          },
          "metadata": {},
          "execution_count": 42
        }
      ]
    },
    {
      "cell_type": "code",
      "source": [
        "b4.shape"
      ],
      "metadata": {
        "colab": {
          "base_uri": "https://localhost:8080/"
        },
        "id": "hLtCln2OXmy6",
        "outputId": "7bbb3f75-af0c-4d63-e054-43d83e8affc7"
      },
      "execution_count": null,
      "outputs": [
        {
          "output_type": "execute_result",
          "data": {
            "text/plain": [
              "(295719, 4)"
            ]
          },
          "metadata": {},
          "execution_count": 43
        }
      ]
    },
    {
      "cell_type": "code",
      "source": [
        "b48.shape"
      ],
      "metadata": {
        "colab": {
          "base_uri": "https://localhost:8080/"
        },
        "id": "SGvgOp9VXoej",
        "outputId": "2a34b614-aa36-4ff3-c7ed-ddc78dd2234f"
      },
      "execution_count": null,
      "outputs": [
        {
          "output_type": "execute_result",
          "data": {
            "text/plain": [
              "(295719, 6)"
            ]
          },
          "metadata": {},
          "execution_count": 44
        }
      ]
    },
    {
      "cell_type": "code",
      "source": [
        "b5.shape"
      ],
      "metadata": {
        "colab": {
          "base_uri": "https://localhost:8080/"
        },
        "id": "XgRSX724XqFU",
        "outputId": "7638d066-8bae-4a05-8586-7d095721bcff"
      },
      "execution_count": null,
      "outputs": [
        {
          "output_type": "execute_result",
          "data": {
            "text/plain": [
              "(295719, 4)"
            ]
          },
          "metadata": {},
          "execution_count": 45
        }
      ]
    },
    {
      "cell_type": "code",
      "source": [
        "b1=b1.head(295719)\n",
        "b5=b5.head(295719)"
      ],
      "metadata": {
        "id": "l6guW79rXrPt"
      },
      "execution_count": null,
      "outputs": []
    },
    {
      "cell_type": "code",
      "source": [
        "b1.shape"
      ],
      "metadata": {
        "colab": {
          "base_uri": "https://localhost:8080/"
        },
        "id": "EgTypMKwX1BI",
        "outputId": "28370e43-32ea-463d-83bf-d53aaa4fbd3e"
      },
      "execution_count": null,
      "outputs": [
        {
          "output_type": "execute_result",
          "data": {
            "text/plain": [
              "(295719, 6)"
            ]
          },
          "metadata": {},
          "execution_count": 47
        }
      ]
    },
    {
      "cell_type": "code",
      "source": [
        "b5.shape"
      ],
      "metadata": {
        "colab": {
          "base_uri": "https://localhost:8080/"
        },
        "id": "fCHh4acqrkCP",
        "outputId": "136aa78a-e99e-4ff8-9b9c-2c4e39a4a5f4"
      },
      "execution_count": null,
      "outputs": [
        {
          "output_type": "execute_result",
          "data": {
            "text/plain": [
              "(295719, 4)"
            ]
          },
          "metadata": {},
          "execution_count": 48
        }
      ]
    },
    {
      "cell_type": "code",
      "source": [
        "b1.isnull().sum()"
      ],
      "metadata": {
        "colab": {
          "base_uri": "https://localhost:8080/"
        },
        "id": "zFZmX-nWX3Xp",
        "outputId": "660ce31a-2dc3-4b69-8427-0fc0f86051a1"
      },
      "execution_count": null,
      "outputs": [
        {
          "output_type": "execute_result",
          "data": {
            "text/plain": [
              "R5 (MOhm)     44262\n",
              "R6 (MOhm)     44229\n",
              "R7 (MOhm)     44256\n",
              "R8 (MOhm)     44499\n",
              "R13 (MOhm)    44209\n",
              "R14 (MOhm)    44498\n",
              "dtype: int64"
            ]
          },
          "metadata": {},
          "execution_count": 49
        }
      ]
    },
    {
      "cell_type": "code",
      "source": [
        "b3.isnull().sum()"
      ],
      "metadata": {
        "colab": {
          "base_uri": "https://localhost:8080/"
        },
        "id": "FmD-_JQ8X9-j",
        "outputId": "751aba98-6267-4fd5-d254-b4e979597c6e"
      },
      "execution_count": null,
      "outputs": [
        {
          "output_type": "execute_result",
          "data": {
            "text/plain": [
              "R9 (MOhm)     44432\n",
              "R10 (MOhm)    44400\n",
              "R11 (MOhm)    44347\n",
              "R12 (MOhm)    44448\n",
              "dtype: int64"
            ]
          },
          "metadata": {},
          "execution_count": 50
        }
      ]
    },
    {
      "cell_type": "code",
      "source": [
        "b4.isnull().sum()"
      ],
      "metadata": {
        "colab": {
          "base_uri": "https://localhost:8080/"
        },
        "id": "2rAo2h7-X_02",
        "outputId": "a8299327-cea1-4b60-b64f-7cbe2aae377f"
      },
      "execution_count": null,
      "outputs": [
        {
          "output_type": "execute_result",
          "data": {
            "text/plain": [
              "Time (s)            44147\n",
              "CO (ppm)                0\n",
              "Humidity (%r.h.)    44373\n",
              "Temperature (C)     44083\n",
              "dtype: int64"
            ]
          },
          "metadata": {},
          "execution_count": 51
        }
      ]
    },
    {
      "cell_type": "code",
      "source": [
        "b48.isnull().sum()"
      ],
      "metadata": {
        "colab": {
          "base_uri": "https://localhost:8080/"
        },
        "id": "rQ48TB72YCY1",
        "outputId": "2d78124d-8739-496d-a6fd-21cf91c164bc"
      },
      "execution_count": null,
      "outputs": [
        {
          "output_type": "execute_result",
          "data": {
            "text/plain": [
              "Flow rate (mL/min)    44277\n",
              "Heater voltage (V)    44130\n",
              "R1 (MOhm)             44417\n",
              "R2 (MOhm)             44191\n",
              "R3 (MOhm)             44387\n",
              "R4 (MOhm)             44660\n",
              "dtype: int64"
            ]
          },
          "metadata": {},
          "execution_count": 52
        }
      ]
    },
    {
      "cell_type": "code",
      "source": [
        "b5.isnull().sum()"
      ],
      "metadata": {
        "colab": {
          "base_uri": "https://localhost:8080/"
        },
        "id": "O8tminVLYFSZ",
        "outputId": "b5d6bd3f-a9a7-4f90-fd71-467cb382e672"
      },
      "execution_count": null,
      "outputs": [
        {
          "output_type": "execute_result",
          "data": {
            "text/plain": [
              "R13 5               44284\n",
              "R14 5               44542\n",
              "Flow rate 5         44451\n",
              "Heater voltage 5    44471\n",
              "dtype: int64"
            ]
          },
          "metadata": {},
          "execution_count": 53
        }
      ]
    },
    {
      "cell_type": "code",
      "source": [
        "b4new=b4"
      ],
      "metadata": {
        "id": "L4-aSfr5YHMC"
      },
      "execution_count": null,
      "outputs": []
    },
    {
      "cell_type": "code",
      "source": [
        "b4new['CO (ppm)'].value_counts()"
      ],
      "metadata": {
        "colab": {
          "base_uri": "https://localhost:8080/"
        },
        "id": "n85wi7leY6MO",
        "outputId": "a592e219-3c1c-4bd9-bf87-5dffa2191851"
      },
      "execution_count": null,
      "outputs": [
        {
          "output_type": "execute_result",
          "data": {
            "text/plain": [
              "0.0000     32195\n",
              "20.0000    29316\n",
              "6.6700     29281\n",
              "2.2200     29268\n",
              "15.5600    29260\n",
              "           ...  \n",
              "3.4540         1\n",
              "6.1100         1\n",
              "10.9025        1\n",
              "15.6950        1\n",
              "0.1576         1\n",
              "Name: CO (ppm), Length: 309, dtype: int64"
            ]
          },
          "metadata": {},
          "execution_count": 55
        }
      ]
    },
    {
      "cell_type": "markdown",
      "source": [
        "DATA PRE PROCESSING\n"
      ],
      "metadata": {
        "id": "HZqtBVGPbNLK"
      }
    },
    {
      "cell_type": "code",
      "source": [
        "b5.rename(columns={'R13 (MOhm)':'R13 5' , 'R14 (MOhm)':'R14 5','Flow rate (mL/min)':'Flow rate 5','Heater voltage (V)':'Heater voltage 5'},inplace=True)"
      ],
      "metadata": {
        "id": "Tqa14CZXZ7pq"
      },
      "execution_count": null,
      "outputs": []
    },
    {
      "cell_type": "code",
      "source": [
        "df = pd.concat([b4, b48], axis=1, join='inner')"
      ],
      "metadata": {
        "id": "4iMQx9PTa9Aa"
      },
      "execution_count": null,
      "outputs": []
    },
    {
      "cell_type": "code",
      "source": [
        "df.shape"
      ],
      "metadata": {
        "colab": {
          "base_uri": "https://localhost:8080/"
        },
        "id": "c8di0i3Xr6RC",
        "outputId": "2fcb7bda-3aa0-4b97-e6f6-aee7ff47f8fc"
      },
      "execution_count": null,
      "outputs": [
        {
          "output_type": "execute_result",
          "data": {
            "text/plain": [
              "(295719, 10)"
            ]
          },
          "metadata": {},
          "execution_count": 58
        }
      ]
    },
    {
      "cell_type": "code",
      "source": [
        "b1.shape"
      ],
      "metadata": {
        "colab": {
          "base_uri": "https://localhost:8080/"
        },
        "id": "uP2I4tt-sLUn",
        "outputId": "4bfe0cd7-610f-4b5c-bab7-cf3677a17931"
      },
      "execution_count": null,
      "outputs": [
        {
          "output_type": "execute_result",
          "data": {
            "text/plain": [
              "(295719, 6)"
            ]
          },
          "metadata": {},
          "execution_count": 59
        }
      ]
    },
    {
      "cell_type": "code",
      "source": [
        "df = pd.concat([df,b1],axis=1,join='inner')"
      ],
      "metadata": {
        "id": "ET4EtSfKbAJt"
      },
      "execution_count": null,
      "outputs": []
    },
    {
      "cell_type": "code",
      "source": [
        "df.shape"
      ],
      "metadata": {
        "colab": {
          "base_uri": "https://localhost:8080/"
        },
        "id": "xI3C50sEsJZ9",
        "outputId": "934881f7-ecde-4cb8-c867-723720ac1312"
      },
      "execution_count": null,
      "outputs": [
        {
          "output_type": "execute_result",
          "data": {
            "text/plain": [
              "(295719, 16)"
            ]
          },
          "metadata": {},
          "execution_count": 61
        }
      ]
    },
    {
      "cell_type": "code",
      "source": [
        "df = pd.concat([df,b3],axis=1,join='inner')"
      ],
      "metadata": {
        "id": "LAWC8CErbdSB"
      },
      "execution_count": null,
      "outputs": []
    },
    {
      "cell_type": "code",
      "source": [
        "b3.shape"
      ],
      "metadata": {
        "colab": {
          "base_uri": "https://localhost:8080/"
        },
        "id": "7Y6oo98vr7kD",
        "outputId": "42020c9c-9262-4b46-a1bd-bd3fe7619cb2"
      },
      "execution_count": null,
      "outputs": [
        {
          "output_type": "execute_result",
          "data": {
            "text/plain": [
              "(295719, 4)"
            ]
          },
          "metadata": {},
          "execution_count": 63
        }
      ]
    },
    {
      "cell_type": "code",
      "source": [
        "df.shape"
      ],
      "metadata": {
        "colab": {
          "base_uri": "https://localhost:8080/"
        },
        "id": "dZBBu-Sxsafh",
        "outputId": "f89477e4-cfcd-448b-dcb3-606563b4fd2b"
      },
      "execution_count": null,
      "outputs": [
        {
          "output_type": "execute_result",
          "data": {
            "text/plain": [
              "(295719, 20)"
            ]
          },
          "metadata": {},
          "execution_count": 64
        }
      ]
    },
    {
      "cell_type": "code",
      "source": [
        "df = pd.concat([df,b5],axis=1,join='inner')"
      ],
      "metadata": {
        "id": "WC8INRGjboCV"
      },
      "execution_count": null,
      "outputs": []
    },
    {
      "cell_type": "code",
      "source": [
        "b5.shape"
      ],
      "metadata": {
        "colab": {
          "base_uri": "https://localhost:8080/"
        },
        "id": "sqZb0gvZr8QR",
        "outputId": "2b04684d-fd09-4724-9702-2cceb3cc1e94"
      },
      "execution_count": null,
      "outputs": [
        {
          "output_type": "execute_result",
          "data": {
            "text/plain": [
              "(295719, 4)"
            ]
          },
          "metadata": {},
          "execution_count": 66
        }
      ]
    },
    {
      "cell_type": "code",
      "source": [
        "df.shape"
      ],
      "metadata": {
        "colab": {
          "base_uri": "https://localhost:8080/"
        },
        "id": "4gExvHpksfJa",
        "outputId": "a7cf27aa-ddce-4458-bd5d-3ab0169016fa"
      },
      "execution_count": null,
      "outputs": [
        {
          "output_type": "execute_result",
          "data": {
            "text/plain": [
              "(295719, 24)"
            ]
          },
          "metadata": {},
          "execution_count": 67
        }
      ]
    },
    {
      "cell_type": "code",
      "source": [
        "df.corr()['CO (ppm)']"
      ],
      "metadata": {
        "colab": {
          "base_uri": "https://localhost:8080/"
        },
        "id": "R0_EpmrGbulW",
        "outputId": "9386b484-492e-44ea-83db-209bd884be29"
      },
      "execution_count": null,
      "outputs": [
        {
          "output_type": "execute_result",
          "data": {
            "text/plain": [
              "Time (s)             -0.009102\n",
              "CO (ppm)              1.000000\n",
              "Humidity (%r.h.)     -0.105354\n",
              "Temperature (C)      -0.131490\n",
              "Flow rate (mL/min)    0.007975\n",
              "Heater voltage (V)   -0.000403\n",
              "R1 (MOhm)             0.013612\n",
              "R2 (MOhm)             0.020262\n",
              "R3 (MOhm)            -0.002249\n",
              "R4 (MOhm)            -0.032166\n",
              "R5 (MOhm)            -0.075384\n",
              "R6 (MOhm)            -0.056464\n",
              "R7 (MOhm)            -0.069194\n",
              "R8 (MOhm)            -0.450336\n",
              "R13 (MOhm)           -0.484624\n",
              "R14 (MOhm)           -0.483170\n",
              "R9 (MOhm)            -0.456955\n",
              "R10 (MOhm)           -0.523704\n",
              "R11 (MOhm)           -0.494399\n",
              "R12 (MOhm)           -0.469962\n",
              "R13 5                -0.506863\n",
              "R14 5                -0.512601\n",
              "Flow rate 5          -0.000556\n",
              "Heater voltage 5      0.000205\n",
              "Name: CO (ppm), dtype: float64"
            ]
          },
          "metadata": {},
          "execution_count": 68
        }
      ]
    },
    {
      "cell_type": "code",
      "source": [
        "df.drop('R13 (MOhm)',axis=1,inplace=True)\n",
        "df.drop('R14 (MOhm)',axis=1,inplace=True)\n",
        "df.drop('Flow rate 5',axis=1,inplace=True)\n",
        "df.drop('Heater voltage 5',axis=1,inplace=True)"
      ],
      "metadata": {
        "id": "fwo74AcPbyvH"
      },
      "execution_count": null,
      "outputs": []
    },
    {
      "cell_type": "code",
      "source": [
        "df.shape"
      ],
      "metadata": {
        "colab": {
          "base_uri": "https://localhost:8080/"
        },
        "id": "Nn2-CaBNdCbr",
        "outputId": "1e5b1c69-3cbe-4689-a995-e71262797e4a"
      },
      "execution_count": null,
      "outputs": [
        {
          "output_type": "execute_result",
          "data": {
            "text/plain": [
              "(295719, 20)"
            ]
          },
          "metadata": {},
          "execution_count": 70
        }
      ]
    },
    {
      "cell_type": "code",
      "source": [
        "df.rename(columns={'R13 5':'R13 (MOhm)' ,'R14 5':'R14 (MOhm)'},inplace=True)"
      ],
      "metadata": {
        "id": "2V6BuiB2dOw8"
      },
      "execution_count": null,
      "outputs": []
    },
    {
      "cell_type": "code",
      "source": [
        "df.isnull().sum()"
      ],
      "metadata": {
        "colab": {
          "base_uri": "https://localhost:8080/"
        },
        "id": "lE578Mkddjrg",
        "outputId": "63f63a9d-29a2-4bea-9776-039911e9c4ff"
      },
      "execution_count": null,
      "outputs": [
        {
          "output_type": "execute_result",
          "data": {
            "text/plain": [
              "Time (s)              44147\n",
              "CO (ppm)                  0\n",
              "Humidity (%r.h.)      44373\n",
              "Temperature (C)       44083\n",
              "Flow rate (mL/min)    44277\n",
              "Heater voltage (V)    44130\n",
              "R1 (MOhm)             44417\n",
              "R2 (MOhm)             44191\n",
              "R3 (MOhm)             44387\n",
              "R4 (MOhm)             44660\n",
              "R5 (MOhm)             44262\n",
              "R6 (MOhm)             44229\n",
              "R7 (MOhm)             44256\n",
              "R8 (MOhm)             44499\n",
              "R9 (MOhm)             44432\n",
              "R10 (MOhm)            44400\n",
              "R11 (MOhm)            44347\n",
              "R12 (MOhm)            44448\n",
              "R13 (MOhm)            44284\n",
              "R14 (MOhm)            44542\n",
              "dtype: int64"
            ]
          },
          "metadata": {},
          "execution_count": 72
        }
      ]
    },
    {
      "cell_type": "code",
      "source": [
        "df['R1 (MOhm)'].mean()"
      ],
      "metadata": {
        "colab": {
          "base_uri": "https://localhost:8080/"
        },
        "id": "iMYK-amRdz-Q",
        "outputId": "bff0748d-c2b6-41e3-ea76-e3a3c364391a"
      },
      "execution_count": null,
      "outputs": [
        {
          "output_type": "execute_result",
          "data": {
            "text/plain": [
              "14.979164201239948"
            ]
          },
          "metadata": {},
          "execution_count": 73
        }
      ]
    },
    {
      "cell_type": "code",
      "source": [
        "df['R1 (MOhm)'].median()"
      ],
      "metadata": {
        "colab": {
          "base_uri": "https://localhost:8080/"
        },
        "id": "M6EeAKxee5rq",
        "outputId": "ed447751-69aa-4f70-e4a4-e351c4a19d77"
      },
      "execution_count": null,
      "outputs": [
        {
          "output_type": "execute_result",
          "data": {
            "text/plain": [
              "1.6487"
            ]
          },
          "metadata": {},
          "execution_count": 74
        }
      ]
    },
    {
      "cell_type": "code",
      "source": [
        "df"
      ],
      "metadata": {
        "colab": {
          "base_uri": "https://localhost:8080/",
          "height": 522
        },
        "id": "nXi82mcee_Cf",
        "outputId": "be8151cb-d44a-443d-8233-f9947904fc5f"
      },
      "execution_count": null,
      "outputs": [
        {
          "output_type": "execute_result",
          "data": {
            "text/plain": [
              "         Time (s)  CO (ppm)  Humidity (%r.h.)  Temperature (C)  \\\n",
              "0           0.000       0.0           49.7534          23.7184   \n",
              "1           0.309       0.0           55.8400          26.6200   \n",
              "2           0.618       0.0           55.8400          26.6200   \n",
              "3           0.926       0.0           55.8400          26.6200   \n",
              "4           1.234       0.0               NaN              NaN   \n",
              "...           ...       ...               ...              ...   \n",
              "295714  90908.545       0.0               NaN              NaN   \n",
              "295715  90908.853       0.0           62.3000          26.5800   \n",
              "295716        NaN       0.0           62.3000          26.5800   \n",
              "295717  90909.469       0.0           62.3000          26.5800   \n",
              "295718  90909.778       0.0           62.3000          26.5800   \n",
              "\n",
              "        Flow rate (mL/min)  Heater voltage (V)  R1 (MOhm)  R2 (MOhm)  \\\n",
              "0                 233.2737              0.8993        NaN        NaN   \n",
              "1                 241.6323              0.2112     2.1314     5.3552   \n",
              "2                 241.3888              0.2070    10.5318    22.5612   \n",
              "3                 241.1461              0.2042    29.5749        NaN   \n",
              "4                      NaN              0.2030    49.5111    67.0368   \n",
              "...                    ...                 ...        ...        ...   \n",
              "295714              0.0000              0.2000     5.5429     2.5713   \n",
              "295715                 NaN                 NaN     4.5527     2.1454   \n",
              "295716              0.0000              0.2000     3.7374     1.8492   \n",
              "295717              0.0000              0.2000     3.1197     1.6190   \n",
              "295718              0.0000              0.2000     2.6417     1.4409   \n",
              "\n",
              "        R3 (MOhm)  R4 (MOhm)  R5 (MOhm)  R6 (MOhm)  R7 (MOhm)  R8 (MOhm)  \\\n",
              "0          1.1493        NaN     1.2534        NaN     1.9906     1.3303   \n",
              "1          9.7569     6.3188        NaN    10.5769    13.6317    21.9829   \n",
              "2         37.2635    17.7848    33.0704    36.3160    42.5746    49.7495   \n",
              "3             NaN        NaN    58.3847    67.5130    68.0064    59.2824   \n",
              "4         77.8317    27.9625    71.7732        NaN    79.8631        NaN   \n",
              "...           ...        ...        ...        ...        ...        ...   \n",
              "295714    10.3815    18.5796    36.4589    34.4549    38.3745    57.5888   \n",
              "295715     8.5494    18.0592        NaN    34.0052    37.6964    51.9752   \n",
              "295716     7.1062        NaN        NaN    32.5056        NaN    54.4724   \n",
              "295717        NaN    17.6950    37.5930    30.5253    35.9328    51.9752   \n",
              "295718        NaN    17.0448    35.1252    29.4024    35.2025        NaN   \n",
              "\n",
              "        R9 (MOhm)  R10 (MOhm)  R11 (MOhm)  R12 (MOhm)  R13 (MOhm)  R14 (MOhm)  \n",
              "0             NaN      1.9148      3.4651      5.2144      6.5806      8.6385  \n",
              "1         16.1902     24.2780     31.1014     34.7193         NaN     41.9167  \n",
              "2         31.7533     57.7289     53.6275     56.9212     47.8255     62.9436  \n",
              "3             NaN     66.0832     66.8349         NaN     50.3730         NaN  \n",
              "4             NaN     68.1441     62.0947     49.4614     52.8453     66.8445  \n",
              "...           ...         ...         ...         ...         ...         ...  \n",
              "295714    45.7953     56.6351     56.4058     50.6129     43.0232         NaN  \n",
              "295715    45.0239     58.9374     61.6173         NaN         NaN     63.8761  \n",
              "295716    45.0239     59.7462     57.1452     51.8182     42.5944     64.3090  \n",
              "295717    45.5201     57.7289     60.3791     50.3466     42.4022     62.0375  \n",
              "295718    43.1405     58.1498     56.0760     51.5393     41.9854     47.5339  \n",
              "\n",
              "[295719 rows x 20 columns]"
            ],
            "text/html": [
              "\n",
              "  <div id=\"df-f44ea882-17fe-4b87-b6d3-96aaf7efeb62\">\n",
              "    <div class=\"colab-df-container\">\n",
              "      <div>\n",
              "<style scoped>\n",
              "    .dataframe tbody tr th:only-of-type {\n",
              "        vertical-align: middle;\n",
              "    }\n",
              "\n",
              "    .dataframe tbody tr th {\n",
              "        vertical-align: top;\n",
              "    }\n",
              "\n",
              "    .dataframe thead th {\n",
              "        text-align: right;\n",
              "    }\n",
              "</style>\n",
              "<table border=\"1\" class=\"dataframe\">\n",
              "  <thead>\n",
              "    <tr style=\"text-align: right;\">\n",
              "      <th></th>\n",
              "      <th>Time (s)</th>\n",
              "      <th>CO (ppm)</th>\n",
              "      <th>Humidity (%r.h.)</th>\n",
              "      <th>Temperature (C)</th>\n",
              "      <th>Flow rate (mL/min)</th>\n",
              "      <th>Heater voltage (V)</th>\n",
              "      <th>R1 (MOhm)</th>\n",
              "      <th>R2 (MOhm)</th>\n",
              "      <th>R3 (MOhm)</th>\n",
              "      <th>R4 (MOhm)</th>\n",
              "      <th>R5 (MOhm)</th>\n",
              "      <th>R6 (MOhm)</th>\n",
              "      <th>R7 (MOhm)</th>\n",
              "      <th>R8 (MOhm)</th>\n",
              "      <th>R9 (MOhm)</th>\n",
              "      <th>R10 (MOhm)</th>\n",
              "      <th>R11 (MOhm)</th>\n",
              "      <th>R12 (MOhm)</th>\n",
              "      <th>R13 (MOhm)</th>\n",
              "      <th>R14 (MOhm)</th>\n",
              "    </tr>\n",
              "  </thead>\n",
              "  <tbody>\n",
              "    <tr>\n",
              "      <th>0</th>\n",
              "      <td>0.000</td>\n",
              "      <td>0.0</td>\n",
              "      <td>49.7534</td>\n",
              "      <td>23.7184</td>\n",
              "      <td>233.2737</td>\n",
              "      <td>0.8993</td>\n",
              "      <td>NaN</td>\n",
              "      <td>NaN</td>\n",
              "      <td>1.1493</td>\n",
              "      <td>NaN</td>\n",
              "      <td>1.2534</td>\n",
              "      <td>NaN</td>\n",
              "      <td>1.9906</td>\n",
              "      <td>1.3303</td>\n",
              "      <td>NaN</td>\n",
              "      <td>1.9148</td>\n",
              "      <td>3.4651</td>\n",
              "      <td>5.2144</td>\n",
              "      <td>6.5806</td>\n",
              "      <td>8.6385</td>\n",
              "    </tr>\n",
              "    <tr>\n",
              "      <th>1</th>\n",
              "      <td>0.309</td>\n",
              "      <td>0.0</td>\n",
              "      <td>55.8400</td>\n",
              "      <td>26.6200</td>\n",
              "      <td>241.6323</td>\n",
              "      <td>0.2112</td>\n",
              "      <td>2.1314</td>\n",
              "      <td>5.3552</td>\n",
              "      <td>9.7569</td>\n",
              "      <td>6.3188</td>\n",
              "      <td>NaN</td>\n",
              "      <td>10.5769</td>\n",
              "      <td>13.6317</td>\n",
              "      <td>21.9829</td>\n",
              "      <td>16.1902</td>\n",
              "      <td>24.2780</td>\n",
              "      <td>31.1014</td>\n",
              "      <td>34.7193</td>\n",
              "      <td>NaN</td>\n",
              "      <td>41.9167</td>\n",
              "    </tr>\n",
              "    <tr>\n",
              "      <th>2</th>\n",
              "      <td>0.618</td>\n",
              "      <td>0.0</td>\n",
              "      <td>55.8400</td>\n",
              "      <td>26.6200</td>\n",
              "      <td>241.3888</td>\n",
              "      <td>0.2070</td>\n",
              "      <td>10.5318</td>\n",
              "      <td>22.5612</td>\n",
              "      <td>37.2635</td>\n",
              "      <td>17.7848</td>\n",
              "      <td>33.0704</td>\n",
              "      <td>36.3160</td>\n",
              "      <td>42.5746</td>\n",
              "      <td>49.7495</td>\n",
              "      <td>31.7533</td>\n",
              "      <td>57.7289</td>\n",
              "      <td>53.6275</td>\n",
              "      <td>56.9212</td>\n",
              "      <td>47.8255</td>\n",
              "      <td>62.9436</td>\n",
              "    </tr>\n",
              "    <tr>\n",
              "      <th>3</th>\n",
              "      <td>0.926</td>\n",
              "      <td>0.0</td>\n",
              "      <td>55.8400</td>\n",
              "      <td>26.6200</td>\n",
              "      <td>241.1461</td>\n",
              "      <td>0.2042</td>\n",
              "      <td>29.5749</td>\n",
              "      <td>NaN</td>\n",
              "      <td>NaN</td>\n",
              "      <td>NaN</td>\n",
              "      <td>58.3847</td>\n",
              "      <td>67.5130</td>\n",
              "      <td>68.0064</td>\n",
              "      <td>59.2824</td>\n",
              "      <td>NaN</td>\n",
              "      <td>66.0832</td>\n",
              "      <td>66.8349</td>\n",
              "      <td>NaN</td>\n",
              "      <td>50.3730</td>\n",
              "      <td>NaN</td>\n",
              "    </tr>\n",
              "    <tr>\n",
              "      <th>4</th>\n",
              "      <td>1.234</td>\n",
              "      <td>0.0</td>\n",
              "      <td>NaN</td>\n",
              "      <td>NaN</td>\n",
              "      <td>NaN</td>\n",
              "      <td>0.2030</td>\n",
              "      <td>49.5111</td>\n",
              "      <td>67.0368</td>\n",
              "      <td>77.8317</td>\n",
              "      <td>27.9625</td>\n",
              "      <td>71.7732</td>\n",
              "      <td>NaN</td>\n",
              "      <td>79.8631</td>\n",
              "      <td>NaN</td>\n",
              "      <td>NaN</td>\n",
              "      <td>68.1441</td>\n",
              "      <td>62.0947</td>\n",
              "      <td>49.4614</td>\n",
              "      <td>52.8453</td>\n",
              "      <td>66.8445</td>\n",
              "    </tr>\n",
              "    <tr>\n",
              "      <th>...</th>\n",
              "      <td>...</td>\n",
              "      <td>...</td>\n",
              "      <td>...</td>\n",
              "      <td>...</td>\n",
              "      <td>...</td>\n",
              "      <td>...</td>\n",
              "      <td>...</td>\n",
              "      <td>...</td>\n",
              "      <td>...</td>\n",
              "      <td>...</td>\n",
              "      <td>...</td>\n",
              "      <td>...</td>\n",
              "      <td>...</td>\n",
              "      <td>...</td>\n",
              "      <td>...</td>\n",
              "      <td>...</td>\n",
              "      <td>...</td>\n",
              "      <td>...</td>\n",
              "      <td>...</td>\n",
              "      <td>...</td>\n",
              "    </tr>\n",
              "    <tr>\n",
              "      <th>295714</th>\n",
              "      <td>90908.545</td>\n",
              "      <td>0.0</td>\n",
              "      <td>NaN</td>\n",
              "      <td>NaN</td>\n",
              "      <td>0.0000</td>\n",
              "      <td>0.2000</td>\n",
              "      <td>5.5429</td>\n",
              "      <td>2.5713</td>\n",
              "      <td>10.3815</td>\n",
              "      <td>18.5796</td>\n",
              "      <td>36.4589</td>\n",
              "      <td>34.4549</td>\n",
              "      <td>38.3745</td>\n",
              "      <td>57.5888</td>\n",
              "      <td>45.7953</td>\n",
              "      <td>56.6351</td>\n",
              "      <td>56.4058</td>\n",
              "      <td>50.6129</td>\n",
              "      <td>43.0232</td>\n",
              "      <td>NaN</td>\n",
              "    </tr>\n",
              "    <tr>\n",
              "      <th>295715</th>\n",
              "      <td>90908.853</td>\n",
              "      <td>0.0</td>\n",
              "      <td>62.3000</td>\n",
              "      <td>26.5800</td>\n",
              "      <td>NaN</td>\n",
              "      <td>NaN</td>\n",
              "      <td>4.5527</td>\n",
              "      <td>2.1454</td>\n",
              "      <td>8.5494</td>\n",
              "      <td>18.0592</td>\n",
              "      <td>NaN</td>\n",
              "      <td>34.0052</td>\n",
              "      <td>37.6964</td>\n",
              "      <td>51.9752</td>\n",
              "      <td>45.0239</td>\n",
              "      <td>58.9374</td>\n",
              "      <td>61.6173</td>\n",
              "      <td>NaN</td>\n",
              "      <td>NaN</td>\n",
              "      <td>63.8761</td>\n",
              "    </tr>\n",
              "    <tr>\n",
              "      <th>295716</th>\n",
              "      <td>NaN</td>\n",
              "      <td>0.0</td>\n",
              "      <td>62.3000</td>\n",
              "      <td>26.5800</td>\n",
              "      <td>0.0000</td>\n",
              "      <td>0.2000</td>\n",
              "      <td>3.7374</td>\n",
              "      <td>1.8492</td>\n",
              "      <td>7.1062</td>\n",
              "      <td>NaN</td>\n",
              "      <td>NaN</td>\n",
              "      <td>32.5056</td>\n",
              "      <td>NaN</td>\n",
              "      <td>54.4724</td>\n",
              "      <td>45.0239</td>\n",
              "      <td>59.7462</td>\n",
              "      <td>57.1452</td>\n",
              "      <td>51.8182</td>\n",
              "      <td>42.5944</td>\n",
              "      <td>64.3090</td>\n",
              "    </tr>\n",
              "    <tr>\n",
              "      <th>295717</th>\n",
              "      <td>90909.469</td>\n",
              "      <td>0.0</td>\n",
              "      <td>62.3000</td>\n",
              "      <td>26.5800</td>\n",
              "      <td>0.0000</td>\n",
              "      <td>0.2000</td>\n",
              "      <td>3.1197</td>\n",
              "      <td>1.6190</td>\n",
              "      <td>NaN</td>\n",
              "      <td>17.6950</td>\n",
              "      <td>37.5930</td>\n",
              "      <td>30.5253</td>\n",
              "      <td>35.9328</td>\n",
              "      <td>51.9752</td>\n",
              "      <td>45.5201</td>\n",
              "      <td>57.7289</td>\n",
              "      <td>60.3791</td>\n",
              "      <td>50.3466</td>\n",
              "      <td>42.4022</td>\n",
              "      <td>62.0375</td>\n",
              "    </tr>\n",
              "    <tr>\n",
              "      <th>295718</th>\n",
              "      <td>90909.778</td>\n",
              "      <td>0.0</td>\n",
              "      <td>62.3000</td>\n",
              "      <td>26.5800</td>\n",
              "      <td>0.0000</td>\n",
              "      <td>0.2000</td>\n",
              "      <td>2.6417</td>\n",
              "      <td>1.4409</td>\n",
              "      <td>NaN</td>\n",
              "      <td>17.0448</td>\n",
              "      <td>35.1252</td>\n",
              "      <td>29.4024</td>\n",
              "      <td>35.2025</td>\n",
              "      <td>NaN</td>\n",
              "      <td>43.1405</td>\n",
              "      <td>58.1498</td>\n",
              "      <td>56.0760</td>\n",
              "      <td>51.5393</td>\n",
              "      <td>41.9854</td>\n",
              "      <td>47.5339</td>\n",
              "    </tr>\n",
              "  </tbody>\n",
              "</table>\n",
              "<p>295719 rows × 20 columns</p>\n",
              "</div>\n",
              "      <button class=\"colab-df-convert\" onclick=\"convertToInteractive('df-f44ea882-17fe-4b87-b6d3-96aaf7efeb62')\"\n",
              "              title=\"Convert this dataframe to an interactive table.\"\n",
              "              style=\"display:none;\">\n",
              "        \n",
              "  <svg xmlns=\"http://www.w3.org/2000/svg\" height=\"24px\"viewBox=\"0 0 24 24\"\n",
              "       width=\"24px\">\n",
              "    <path d=\"M0 0h24v24H0V0z\" fill=\"none\"/>\n",
              "    <path d=\"M18.56 5.44l.94 2.06.94-2.06 2.06-.94-2.06-.94-.94-2.06-.94 2.06-2.06.94zm-11 1L8.5 8.5l.94-2.06 2.06-.94-2.06-.94L8.5 2.5l-.94 2.06-2.06.94zm10 10l.94 2.06.94-2.06 2.06-.94-2.06-.94-.94-2.06-.94 2.06-2.06.94z\"/><path d=\"M17.41 7.96l-1.37-1.37c-.4-.4-.92-.59-1.43-.59-.52 0-1.04.2-1.43.59L10.3 9.45l-7.72 7.72c-.78.78-.78 2.05 0 2.83L4 21.41c.39.39.9.59 1.41.59.51 0 1.02-.2 1.41-.59l7.78-7.78 2.81-2.81c.8-.78.8-2.07 0-2.86zM5.41 20L4 18.59l7.72-7.72 1.47 1.35L5.41 20z\"/>\n",
              "  </svg>\n",
              "      </button>\n",
              "      \n",
              "  <style>\n",
              "    .colab-df-container {\n",
              "      display:flex;\n",
              "      flex-wrap:wrap;\n",
              "      gap: 12px;\n",
              "    }\n",
              "\n",
              "    .colab-df-convert {\n",
              "      background-color: #E8F0FE;\n",
              "      border: none;\n",
              "      border-radius: 50%;\n",
              "      cursor: pointer;\n",
              "      display: none;\n",
              "      fill: #1967D2;\n",
              "      height: 32px;\n",
              "      padding: 0 0 0 0;\n",
              "      width: 32px;\n",
              "    }\n",
              "\n",
              "    .colab-df-convert:hover {\n",
              "      background-color: #E2EBFA;\n",
              "      box-shadow: 0px 1px 2px rgba(60, 64, 67, 0.3), 0px 1px 3px 1px rgba(60, 64, 67, 0.15);\n",
              "      fill: #174EA6;\n",
              "    }\n",
              "\n",
              "    [theme=dark] .colab-df-convert {\n",
              "      background-color: #3B4455;\n",
              "      fill: #D2E3FC;\n",
              "    }\n",
              "\n",
              "    [theme=dark] .colab-df-convert:hover {\n",
              "      background-color: #434B5C;\n",
              "      box-shadow: 0px 1px 3px 1px rgba(0, 0, 0, 0.15);\n",
              "      filter: drop-shadow(0px 1px 2px rgba(0, 0, 0, 0.3));\n",
              "      fill: #FFFFFF;\n",
              "    }\n",
              "  </style>\n",
              "\n",
              "      <script>\n",
              "        const buttonEl =\n",
              "          document.querySelector('#df-f44ea882-17fe-4b87-b6d3-96aaf7efeb62 button.colab-df-convert');\n",
              "        buttonEl.style.display =\n",
              "          google.colab.kernel.accessAllowed ? 'block' : 'none';\n",
              "\n",
              "        async function convertToInteractive(key) {\n",
              "          const element = document.querySelector('#df-f44ea882-17fe-4b87-b6d3-96aaf7efeb62');\n",
              "          const dataTable =\n",
              "            await google.colab.kernel.invokeFunction('convertToInteractive',\n",
              "                                                     [key], {});\n",
              "          if (!dataTable) return;\n",
              "\n",
              "          const docLinkHtml = 'Like what you see? Visit the ' +\n",
              "            '<a target=\"_blank\" href=https://colab.research.google.com/notebooks/data_table.ipynb>data table notebook</a>'\n",
              "            + ' to learn more about interactive tables.';\n",
              "          element.innerHTML = '';\n",
              "          dataTable['output_type'] = 'display_data';\n",
              "          await google.colab.output.renderOutput(dataTable, element);\n",
              "          const docLink = document.createElement('div');\n",
              "          docLink.innerHTML = docLinkHtml;\n",
              "          element.appendChild(docLink);\n",
              "        }\n",
              "      </script>\n",
              "    </div>\n",
              "  </div>\n",
              "  "
            ]
          },
          "metadata": {},
          "execution_count": 75
        }
      ]
    },
    {
      "cell_type": "code",
      "source": [
        "df.dropna(how='all')"
      ],
      "metadata": {
        "colab": {
          "base_uri": "https://localhost:8080/",
          "height": 522
        },
        "id": "n0aXRecEguP8",
        "outputId": "138369c5-15b6-4c92-b45e-81e2e9bb062c"
      },
      "execution_count": null,
      "outputs": [
        {
          "output_type": "execute_result",
          "data": {
            "text/plain": [
              "         Time (s)  CO (ppm)  Humidity (%r.h.)  Temperature (C)  \\\n",
              "0           0.000       0.0           49.7534          23.7184   \n",
              "1           0.309       0.0           55.8400          26.6200   \n",
              "2           0.618       0.0           55.8400          26.6200   \n",
              "3           0.926       0.0           55.8400          26.6200   \n",
              "4           1.234       0.0               NaN              NaN   \n",
              "...           ...       ...               ...              ...   \n",
              "295714  90908.545       0.0               NaN              NaN   \n",
              "295715  90908.853       0.0           62.3000          26.5800   \n",
              "295716        NaN       0.0           62.3000          26.5800   \n",
              "295717  90909.469       0.0           62.3000          26.5800   \n",
              "295718  90909.778       0.0           62.3000          26.5800   \n",
              "\n",
              "        Flow rate (mL/min)  Heater voltage (V)  R1 (MOhm)  R2 (MOhm)  \\\n",
              "0                 233.2737              0.8993        NaN        NaN   \n",
              "1                 241.6323              0.2112     2.1314     5.3552   \n",
              "2                 241.3888              0.2070    10.5318    22.5612   \n",
              "3                 241.1461              0.2042    29.5749        NaN   \n",
              "4                      NaN              0.2030    49.5111    67.0368   \n",
              "...                    ...                 ...        ...        ...   \n",
              "295714              0.0000              0.2000     5.5429     2.5713   \n",
              "295715                 NaN                 NaN     4.5527     2.1454   \n",
              "295716              0.0000              0.2000     3.7374     1.8492   \n",
              "295717              0.0000              0.2000     3.1197     1.6190   \n",
              "295718              0.0000              0.2000     2.6417     1.4409   \n",
              "\n",
              "        R3 (MOhm)  R4 (MOhm)  R5 (MOhm)  R6 (MOhm)  R7 (MOhm)  R8 (MOhm)  \\\n",
              "0          1.1493        NaN     1.2534        NaN     1.9906     1.3303   \n",
              "1          9.7569     6.3188        NaN    10.5769    13.6317    21.9829   \n",
              "2         37.2635    17.7848    33.0704    36.3160    42.5746    49.7495   \n",
              "3             NaN        NaN    58.3847    67.5130    68.0064    59.2824   \n",
              "4         77.8317    27.9625    71.7732        NaN    79.8631        NaN   \n",
              "...           ...        ...        ...        ...        ...        ...   \n",
              "295714    10.3815    18.5796    36.4589    34.4549    38.3745    57.5888   \n",
              "295715     8.5494    18.0592        NaN    34.0052    37.6964    51.9752   \n",
              "295716     7.1062        NaN        NaN    32.5056        NaN    54.4724   \n",
              "295717        NaN    17.6950    37.5930    30.5253    35.9328    51.9752   \n",
              "295718        NaN    17.0448    35.1252    29.4024    35.2025        NaN   \n",
              "\n",
              "        R9 (MOhm)  R10 (MOhm)  R11 (MOhm)  R12 (MOhm)  R13 (MOhm)  R14 (MOhm)  \n",
              "0             NaN      1.9148      3.4651      5.2144      6.5806      8.6385  \n",
              "1         16.1902     24.2780     31.1014     34.7193         NaN     41.9167  \n",
              "2         31.7533     57.7289     53.6275     56.9212     47.8255     62.9436  \n",
              "3             NaN     66.0832     66.8349         NaN     50.3730         NaN  \n",
              "4             NaN     68.1441     62.0947     49.4614     52.8453     66.8445  \n",
              "...           ...         ...         ...         ...         ...         ...  \n",
              "295714    45.7953     56.6351     56.4058     50.6129     43.0232         NaN  \n",
              "295715    45.0239     58.9374     61.6173         NaN         NaN     63.8761  \n",
              "295716    45.0239     59.7462     57.1452     51.8182     42.5944     64.3090  \n",
              "295717    45.5201     57.7289     60.3791     50.3466     42.4022     62.0375  \n",
              "295718    43.1405     58.1498     56.0760     51.5393     41.9854     47.5339  \n",
              "\n",
              "[295719 rows x 20 columns]"
            ],
            "text/html": [
              "\n",
              "  <div id=\"df-cb016ff4-64b6-428b-966e-d2858772887a\">\n",
              "    <div class=\"colab-df-container\">\n",
              "      <div>\n",
              "<style scoped>\n",
              "    .dataframe tbody tr th:only-of-type {\n",
              "        vertical-align: middle;\n",
              "    }\n",
              "\n",
              "    .dataframe tbody tr th {\n",
              "        vertical-align: top;\n",
              "    }\n",
              "\n",
              "    .dataframe thead th {\n",
              "        text-align: right;\n",
              "    }\n",
              "</style>\n",
              "<table border=\"1\" class=\"dataframe\">\n",
              "  <thead>\n",
              "    <tr style=\"text-align: right;\">\n",
              "      <th></th>\n",
              "      <th>Time (s)</th>\n",
              "      <th>CO (ppm)</th>\n",
              "      <th>Humidity (%r.h.)</th>\n",
              "      <th>Temperature (C)</th>\n",
              "      <th>Flow rate (mL/min)</th>\n",
              "      <th>Heater voltage (V)</th>\n",
              "      <th>R1 (MOhm)</th>\n",
              "      <th>R2 (MOhm)</th>\n",
              "      <th>R3 (MOhm)</th>\n",
              "      <th>R4 (MOhm)</th>\n",
              "      <th>R5 (MOhm)</th>\n",
              "      <th>R6 (MOhm)</th>\n",
              "      <th>R7 (MOhm)</th>\n",
              "      <th>R8 (MOhm)</th>\n",
              "      <th>R9 (MOhm)</th>\n",
              "      <th>R10 (MOhm)</th>\n",
              "      <th>R11 (MOhm)</th>\n",
              "      <th>R12 (MOhm)</th>\n",
              "      <th>R13 (MOhm)</th>\n",
              "      <th>R14 (MOhm)</th>\n",
              "    </tr>\n",
              "  </thead>\n",
              "  <tbody>\n",
              "    <tr>\n",
              "      <th>0</th>\n",
              "      <td>0.000</td>\n",
              "      <td>0.0</td>\n",
              "      <td>49.7534</td>\n",
              "      <td>23.7184</td>\n",
              "      <td>233.2737</td>\n",
              "      <td>0.8993</td>\n",
              "      <td>NaN</td>\n",
              "      <td>NaN</td>\n",
              "      <td>1.1493</td>\n",
              "      <td>NaN</td>\n",
              "      <td>1.2534</td>\n",
              "      <td>NaN</td>\n",
              "      <td>1.9906</td>\n",
              "      <td>1.3303</td>\n",
              "      <td>NaN</td>\n",
              "      <td>1.9148</td>\n",
              "      <td>3.4651</td>\n",
              "      <td>5.2144</td>\n",
              "      <td>6.5806</td>\n",
              "      <td>8.6385</td>\n",
              "    </tr>\n",
              "    <tr>\n",
              "      <th>1</th>\n",
              "      <td>0.309</td>\n",
              "      <td>0.0</td>\n",
              "      <td>55.8400</td>\n",
              "      <td>26.6200</td>\n",
              "      <td>241.6323</td>\n",
              "      <td>0.2112</td>\n",
              "      <td>2.1314</td>\n",
              "      <td>5.3552</td>\n",
              "      <td>9.7569</td>\n",
              "      <td>6.3188</td>\n",
              "      <td>NaN</td>\n",
              "      <td>10.5769</td>\n",
              "      <td>13.6317</td>\n",
              "      <td>21.9829</td>\n",
              "      <td>16.1902</td>\n",
              "      <td>24.2780</td>\n",
              "      <td>31.1014</td>\n",
              "      <td>34.7193</td>\n",
              "      <td>NaN</td>\n",
              "      <td>41.9167</td>\n",
              "    </tr>\n",
              "    <tr>\n",
              "      <th>2</th>\n",
              "      <td>0.618</td>\n",
              "      <td>0.0</td>\n",
              "      <td>55.8400</td>\n",
              "      <td>26.6200</td>\n",
              "      <td>241.3888</td>\n",
              "      <td>0.2070</td>\n",
              "      <td>10.5318</td>\n",
              "      <td>22.5612</td>\n",
              "      <td>37.2635</td>\n",
              "      <td>17.7848</td>\n",
              "      <td>33.0704</td>\n",
              "      <td>36.3160</td>\n",
              "      <td>42.5746</td>\n",
              "      <td>49.7495</td>\n",
              "      <td>31.7533</td>\n",
              "      <td>57.7289</td>\n",
              "      <td>53.6275</td>\n",
              "      <td>56.9212</td>\n",
              "      <td>47.8255</td>\n",
              "      <td>62.9436</td>\n",
              "    </tr>\n",
              "    <tr>\n",
              "      <th>3</th>\n",
              "      <td>0.926</td>\n",
              "      <td>0.0</td>\n",
              "      <td>55.8400</td>\n",
              "      <td>26.6200</td>\n",
              "      <td>241.1461</td>\n",
              "      <td>0.2042</td>\n",
              "      <td>29.5749</td>\n",
              "      <td>NaN</td>\n",
              "      <td>NaN</td>\n",
              "      <td>NaN</td>\n",
              "      <td>58.3847</td>\n",
              "      <td>67.5130</td>\n",
              "      <td>68.0064</td>\n",
              "      <td>59.2824</td>\n",
              "      <td>NaN</td>\n",
              "      <td>66.0832</td>\n",
              "      <td>66.8349</td>\n",
              "      <td>NaN</td>\n",
              "      <td>50.3730</td>\n",
              "      <td>NaN</td>\n",
              "    </tr>\n",
              "    <tr>\n",
              "      <th>4</th>\n",
              "      <td>1.234</td>\n",
              "      <td>0.0</td>\n",
              "      <td>NaN</td>\n",
              "      <td>NaN</td>\n",
              "      <td>NaN</td>\n",
              "      <td>0.2030</td>\n",
              "      <td>49.5111</td>\n",
              "      <td>67.0368</td>\n",
              "      <td>77.8317</td>\n",
              "      <td>27.9625</td>\n",
              "      <td>71.7732</td>\n",
              "      <td>NaN</td>\n",
              "      <td>79.8631</td>\n",
              "      <td>NaN</td>\n",
              "      <td>NaN</td>\n",
              "      <td>68.1441</td>\n",
              "      <td>62.0947</td>\n",
              "      <td>49.4614</td>\n",
              "      <td>52.8453</td>\n",
              "      <td>66.8445</td>\n",
              "    </tr>\n",
              "    <tr>\n",
              "      <th>...</th>\n",
              "      <td>...</td>\n",
              "      <td>...</td>\n",
              "      <td>...</td>\n",
              "      <td>...</td>\n",
              "      <td>...</td>\n",
              "      <td>...</td>\n",
              "      <td>...</td>\n",
              "      <td>...</td>\n",
              "      <td>...</td>\n",
              "      <td>...</td>\n",
              "      <td>...</td>\n",
              "      <td>...</td>\n",
              "      <td>...</td>\n",
              "      <td>...</td>\n",
              "      <td>...</td>\n",
              "      <td>...</td>\n",
              "      <td>...</td>\n",
              "      <td>...</td>\n",
              "      <td>...</td>\n",
              "      <td>...</td>\n",
              "    </tr>\n",
              "    <tr>\n",
              "      <th>295714</th>\n",
              "      <td>90908.545</td>\n",
              "      <td>0.0</td>\n",
              "      <td>NaN</td>\n",
              "      <td>NaN</td>\n",
              "      <td>0.0000</td>\n",
              "      <td>0.2000</td>\n",
              "      <td>5.5429</td>\n",
              "      <td>2.5713</td>\n",
              "      <td>10.3815</td>\n",
              "      <td>18.5796</td>\n",
              "      <td>36.4589</td>\n",
              "      <td>34.4549</td>\n",
              "      <td>38.3745</td>\n",
              "      <td>57.5888</td>\n",
              "      <td>45.7953</td>\n",
              "      <td>56.6351</td>\n",
              "      <td>56.4058</td>\n",
              "      <td>50.6129</td>\n",
              "      <td>43.0232</td>\n",
              "      <td>NaN</td>\n",
              "    </tr>\n",
              "    <tr>\n",
              "      <th>295715</th>\n",
              "      <td>90908.853</td>\n",
              "      <td>0.0</td>\n",
              "      <td>62.3000</td>\n",
              "      <td>26.5800</td>\n",
              "      <td>NaN</td>\n",
              "      <td>NaN</td>\n",
              "      <td>4.5527</td>\n",
              "      <td>2.1454</td>\n",
              "      <td>8.5494</td>\n",
              "      <td>18.0592</td>\n",
              "      <td>NaN</td>\n",
              "      <td>34.0052</td>\n",
              "      <td>37.6964</td>\n",
              "      <td>51.9752</td>\n",
              "      <td>45.0239</td>\n",
              "      <td>58.9374</td>\n",
              "      <td>61.6173</td>\n",
              "      <td>NaN</td>\n",
              "      <td>NaN</td>\n",
              "      <td>63.8761</td>\n",
              "    </tr>\n",
              "    <tr>\n",
              "      <th>295716</th>\n",
              "      <td>NaN</td>\n",
              "      <td>0.0</td>\n",
              "      <td>62.3000</td>\n",
              "      <td>26.5800</td>\n",
              "      <td>0.0000</td>\n",
              "      <td>0.2000</td>\n",
              "      <td>3.7374</td>\n",
              "      <td>1.8492</td>\n",
              "      <td>7.1062</td>\n",
              "      <td>NaN</td>\n",
              "      <td>NaN</td>\n",
              "      <td>32.5056</td>\n",
              "      <td>NaN</td>\n",
              "      <td>54.4724</td>\n",
              "      <td>45.0239</td>\n",
              "      <td>59.7462</td>\n",
              "      <td>57.1452</td>\n",
              "      <td>51.8182</td>\n",
              "      <td>42.5944</td>\n",
              "      <td>64.3090</td>\n",
              "    </tr>\n",
              "    <tr>\n",
              "      <th>295717</th>\n",
              "      <td>90909.469</td>\n",
              "      <td>0.0</td>\n",
              "      <td>62.3000</td>\n",
              "      <td>26.5800</td>\n",
              "      <td>0.0000</td>\n",
              "      <td>0.2000</td>\n",
              "      <td>3.1197</td>\n",
              "      <td>1.6190</td>\n",
              "      <td>NaN</td>\n",
              "      <td>17.6950</td>\n",
              "      <td>37.5930</td>\n",
              "      <td>30.5253</td>\n",
              "      <td>35.9328</td>\n",
              "      <td>51.9752</td>\n",
              "      <td>45.5201</td>\n",
              "      <td>57.7289</td>\n",
              "      <td>60.3791</td>\n",
              "      <td>50.3466</td>\n",
              "      <td>42.4022</td>\n",
              "      <td>62.0375</td>\n",
              "    </tr>\n",
              "    <tr>\n",
              "      <th>295718</th>\n",
              "      <td>90909.778</td>\n",
              "      <td>0.0</td>\n",
              "      <td>62.3000</td>\n",
              "      <td>26.5800</td>\n",
              "      <td>0.0000</td>\n",
              "      <td>0.2000</td>\n",
              "      <td>2.6417</td>\n",
              "      <td>1.4409</td>\n",
              "      <td>NaN</td>\n",
              "      <td>17.0448</td>\n",
              "      <td>35.1252</td>\n",
              "      <td>29.4024</td>\n",
              "      <td>35.2025</td>\n",
              "      <td>NaN</td>\n",
              "      <td>43.1405</td>\n",
              "      <td>58.1498</td>\n",
              "      <td>56.0760</td>\n",
              "      <td>51.5393</td>\n",
              "      <td>41.9854</td>\n",
              "      <td>47.5339</td>\n",
              "    </tr>\n",
              "  </tbody>\n",
              "</table>\n",
              "<p>295719 rows × 20 columns</p>\n",
              "</div>\n",
              "      <button class=\"colab-df-convert\" onclick=\"convertToInteractive('df-cb016ff4-64b6-428b-966e-d2858772887a')\"\n",
              "              title=\"Convert this dataframe to an interactive table.\"\n",
              "              style=\"display:none;\">\n",
              "        \n",
              "  <svg xmlns=\"http://www.w3.org/2000/svg\" height=\"24px\"viewBox=\"0 0 24 24\"\n",
              "       width=\"24px\">\n",
              "    <path d=\"M0 0h24v24H0V0z\" fill=\"none\"/>\n",
              "    <path d=\"M18.56 5.44l.94 2.06.94-2.06 2.06-.94-2.06-.94-.94-2.06-.94 2.06-2.06.94zm-11 1L8.5 8.5l.94-2.06 2.06-.94-2.06-.94L8.5 2.5l-.94 2.06-2.06.94zm10 10l.94 2.06.94-2.06 2.06-.94-2.06-.94-.94-2.06-.94 2.06-2.06.94z\"/><path d=\"M17.41 7.96l-1.37-1.37c-.4-.4-.92-.59-1.43-.59-.52 0-1.04.2-1.43.59L10.3 9.45l-7.72 7.72c-.78.78-.78 2.05 0 2.83L4 21.41c.39.39.9.59 1.41.59.51 0 1.02-.2 1.41-.59l7.78-7.78 2.81-2.81c.8-.78.8-2.07 0-2.86zM5.41 20L4 18.59l7.72-7.72 1.47 1.35L5.41 20z\"/>\n",
              "  </svg>\n",
              "      </button>\n",
              "      \n",
              "  <style>\n",
              "    .colab-df-container {\n",
              "      display:flex;\n",
              "      flex-wrap:wrap;\n",
              "      gap: 12px;\n",
              "    }\n",
              "\n",
              "    .colab-df-convert {\n",
              "      background-color: #E8F0FE;\n",
              "      border: none;\n",
              "      border-radius: 50%;\n",
              "      cursor: pointer;\n",
              "      display: none;\n",
              "      fill: #1967D2;\n",
              "      height: 32px;\n",
              "      padding: 0 0 0 0;\n",
              "      width: 32px;\n",
              "    }\n",
              "\n",
              "    .colab-df-convert:hover {\n",
              "      background-color: #E2EBFA;\n",
              "      box-shadow: 0px 1px 2px rgba(60, 64, 67, 0.3), 0px 1px 3px 1px rgba(60, 64, 67, 0.15);\n",
              "      fill: #174EA6;\n",
              "    }\n",
              "\n",
              "    [theme=dark] .colab-df-convert {\n",
              "      background-color: #3B4455;\n",
              "      fill: #D2E3FC;\n",
              "    }\n",
              "\n",
              "    [theme=dark] .colab-df-convert:hover {\n",
              "      background-color: #434B5C;\n",
              "      box-shadow: 0px 1px 3px 1px rgba(0, 0, 0, 0.15);\n",
              "      filter: drop-shadow(0px 1px 2px rgba(0, 0, 0, 0.3));\n",
              "      fill: #FFFFFF;\n",
              "    }\n",
              "  </style>\n",
              "\n",
              "      <script>\n",
              "        const buttonEl =\n",
              "          document.querySelector('#df-cb016ff4-64b6-428b-966e-d2858772887a button.colab-df-convert');\n",
              "        buttonEl.style.display =\n",
              "          google.colab.kernel.accessAllowed ? 'block' : 'none';\n",
              "\n",
              "        async function convertToInteractive(key) {\n",
              "          const element = document.querySelector('#df-cb016ff4-64b6-428b-966e-d2858772887a');\n",
              "          const dataTable =\n",
              "            await google.colab.kernel.invokeFunction('convertToInteractive',\n",
              "                                                     [key], {});\n",
              "          if (!dataTable) return;\n",
              "\n",
              "          const docLinkHtml = 'Like what you see? Visit the ' +\n",
              "            '<a target=\"_blank\" href=https://colab.research.google.com/notebooks/data_table.ipynb>data table notebook</a>'\n",
              "            + ' to learn more about interactive tables.';\n",
              "          element.innerHTML = '';\n",
              "          dataTable['output_type'] = 'display_data';\n",
              "          await google.colab.output.renderOutput(dataTable, element);\n",
              "          const docLink = document.createElement('div');\n",
              "          docLink.innerHTML = docLinkHtml;\n",
              "          element.appendChild(docLink);\n",
              "        }\n",
              "      </script>\n",
              "    </div>\n",
              "  </div>\n",
              "  "
            ]
          },
          "metadata": {},
          "execution_count": 76
        }
      ]
    },
    {
      "cell_type": "code",
      "source": [
        "dfnew=df"
      ],
      "metadata": {
        "id": "OKVsgbsqlL-y"
      },
      "execution_count": null,
      "outputs": []
    },
    {
      "cell_type": "code",
      "source": [
        "dfnew"
      ],
      "metadata": {
        "colab": {
          "base_uri": "https://localhost:8080/",
          "height": 522
        },
        "id": "d3R9RRf4lNKS",
        "outputId": "4091fcb0-34f8-466a-d681-b919c186b17a"
      },
      "execution_count": null,
      "outputs": [
        {
          "output_type": "execute_result",
          "data": {
            "text/plain": [
              "         Time (s)  CO (ppm)  Humidity (%r.h.)  Temperature (C)  \\\n",
              "0           0.000       0.0           49.7534          23.7184   \n",
              "1           0.309       0.0           55.8400          26.6200   \n",
              "2           0.618       0.0           55.8400          26.6200   \n",
              "3           0.926       0.0           55.8400          26.6200   \n",
              "4           1.234       0.0               NaN              NaN   \n",
              "...           ...       ...               ...              ...   \n",
              "295714  90908.545       0.0               NaN              NaN   \n",
              "295715  90908.853       0.0           62.3000          26.5800   \n",
              "295716        NaN       0.0           62.3000          26.5800   \n",
              "295717  90909.469       0.0           62.3000          26.5800   \n",
              "295718  90909.778       0.0           62.3000          26.5800   \n",
              "\n",
              "        Flow rate (mL/min)  Heater voltage (V)  R1 (MOhm)  R2 (MOhm)  \\\n",
              "0                 233.2737              0.8993        NaN        NaN   \n",
              "1                 241.6323              0.2112     2.1314     5.3552   \n",
              "2                 241.3888              0.2070    10.5318    22.5612   \n",
              "3                 241.1461              0.2042    29.5749        NaN   \n",
              "4                      NaN              0.2030    49.5111    67.0368   \n",
              "...                    ...                 ...        ...        ...   \n",
              "295714              0.0000              0.2000     5.5429     2.5713   \n",
              "295715                 NaN                 NaN     4.5527     2.1454   \n",
              "295716              0.0000              0.2000     3.7374     1.8492   \n",
              "295717              0.0000              0.2000     3.1197     1.6190   \n",
              "295718              0.0000              0.2000     2.6417     1.4409   \n",
              "\n",
              "        R3 (MOhm)  R4 (MOhm)  R5 (MOhm)  R6 (MOhm)  R7 (MOhm)  R8 (MOhm)  \\\n",
              "0          1.1493        NaN     1.2534        NaN     1.9906     1.3303   \n",
              "1          9.7569     6.3188        NaN    10.5769    13.6317    21.9829   \n",
              "2         37.2635    17.7848    33.0704    36.3160    42.5746    49.7495   \n",
              "3             NaN        NaN    58.3847    67.5130    68.0064    59.2824   \n",
              "4         77.8317    27.9625    71.7732        NaN    79.8631        NaN   \n",
              "...           ...        ...        ...        ...        ...        ...   \n",
              "295714    10.3815    18.5796    36.4589    34.4549    38.3745    57.5888   \n",
              "295715     8.5494    18.0592        NaN    34.0052    37.6964    51.9752   \n",
              "295716     7.1062        NaN        NaN    32.5056        NaN    54.4724   \n",
              "295717        NaN    17.6950    37.5930    30.5253    35.9328    51.9752   \n",
              "295718        NaN    17.0448    35.1252    29.4024    35.2025        NaN   \n",
              "\n",
              "        R9 (MOhm)  R10 (MOhm)  R11 (MOhm)  R12 (MOhm)  R13 (MOhm)  R14 (MOhm)  \n",
              "0             NaN      1.9148      3.4651      5.2144      6.5806      8.6385  \n",
              "1         16.1902     24.2780     31.1014     34.7193         NaN     41.9167  \n",
              "2         31.7533     57.7289     53.6275     56.9212     47.8255     62.9436  \n",
              "3             NaN     66.0832     66.8349         NaN     50.3730         NaN  \n",
              "4             NaN     68.1441     62.0947     49.4614     52.8453     66.8445  \n",
              "...           ...         ...         ...         ...         ...         ...  \n",
              "295714    45.7953     56.6351     56.4058     50.6129     43.0232         NaN  \n",
              "295715    45.0239     58.9374     61.6173         NaN         NaN     63.8761  \n",
              "295716    45.0239     59.7462     57.1452     51.8182     42.5944     64.3090  \n",
              "295717    45.5201     57.7289     60.3791     50.3466     42.4022     62.0375  \n",
              "295718    43.1405     58.1498     56.0760     51.5393     41.9854     47.5339  \n",
              "\n",
              "[295719 rows x 20 columns]"
            ],
            "text/html": [
              "\n",
              "  <div id=\"df-b67ed892-a48b-4197-a48e-9bd0f4e77a35\">\n",
              "    <div class=\"colab-df-container\">\n",
              "      <div>\n",
              "<style scoped>\n",
              "    .dataframe tbody tr th:only-of-type {\n",
              "        vertical-align: middle;\n",
              "    }\n",
              "\n",
              "    .dataframe tbody tr th {\n",
              "        vertical-align: top;\n",
              "    }\n",
              "\n",
              "    .dataframe thead th {\n",
              "        text-align: right;\n",
              "    }\n",
              "</style>\n",
              "<table border=\"1\" class=\"dataframe\">\n",
              "  <thead>\n",
              "    <tr style=\"text-align: right;\">\n",
              "      <th></th>\n",
              "      <th>Time (s)</th>\n",
              "      <th>CO (ppm)</th>\n",
              "      <th>Humidity (%r.h.)</th>\n",
              "      <th>Temperature (C)</th>\n",
              "      <th>Flow rate (mL/min)</th>\n",
              "      <th>Heater voltage (V)</th>\n",
              "      <th>R1 (MOhm)</th>\n",
              "      <th>R2 (MOhm)</th>\n",
              "      <th>R3 (MOhm)</th>\n",
              "      <th>R4 (MOhm)</th>\n",
              "      <th>R5 (MOhm)</th>\n",
              "      <th>R6 (MOhm)</th>\n",
              "      <th>R7 (MOhm)</th>\n",
              "      <th>R8 (MOhm)</th>\n",
              "      <th>R9 (MOhm)</th>\n",
              "      <th>R10 (MOhm)</th>\n",
              "      <th>R11 (MOhm)</th>\n",
              "      <th>R12 (MOhm)</th>\n",
              "      <th>R13 (MOhm)</th>\n",
              "      <th>R14 (MOhm)</th>\n",
              "    </tr>\n",
              "  </thead>\n",
              "  <tbody>\n",
              "    <tr>\n",
              "      <th>0</th>\n",
              "      <td>0.000</td>\n",
              "      <td>0.0</td>\n",
              "      <td>49.7534</td>\n",
              "      <td>23.7184</td>\n",
              "      <td>233.2737</td>\n",
              "      <td>0.8993</td>\n",
              "      <td>NaN</td>\n",
              "      <td>NaN</td>\n",
              "      <td>1.1493</td>\n",
              "      <td>NaN</td>\n",
              "      <td>1.2534</td>\n",
              "      <td>NaN</td>\n",
              "      <td>1.9906</td>\n",
              "      <td>1.3303</td>\n",
              "      <td>NaN</td>\n",
              "      <td>1.9148</td>\n",
              "      <td>3.4651</td>\n",
              "      <td>5.2144</td>\n",
              "      <td>6.5806</td>\n",
              "      <td>8.6385</td>\n",
              "    </tr>\n",
              "    <tr>\n",
              "      <th>1</th>\n",
              "      <td>0.309</td>\n",
              "      <td>0.0</td>\n",
              "      <td>55.8400</td>\n",
              "      <td>26.6200</td>\n",
              "      <td>241.6323</td>\n",
              "      <td>0.2112</td>\n",
              "      <td>2.1314</td>\n",
              "      <td>5.3552</td>\n",
              "      <td>9.7569</td>\n",
              "      <td>6.3188</td>\n",
              "      <td>NaN</td>\n",
              "      <td>10.5769</td>\n",
              "      <td>13.6317</td>\n",
              "      <td>21.9829</td>\n",
              "      <td>16.1902</td>\n",
              "      <td>24.2780</td>\n",
              "      <td>31.1014</td>\n",
              "      <td>34.7193</td>\n",
              "      <td>NaN</td>\n",
              "      <td>41.9167</td>\n",
              "    </tr>\n",
              "    <tr>\n",
              "      <th>2</th>\n",
              "      <td>0.618</td>\n",
              "      <td>0.0</td>\n",
              "      <td>55.8400</td>\n",
              "      <td>26.6200</td>\n",
              "      <td>241.3888</td>\n",
              "      <td>0.2070</td>\n",
              "      <td>10.5318</td>\n",
              "      <td>22.5612</td>\n",
              "      <td>37.2635</td>\n",
              "      <td>17.7848</td>\n",
              "      <td>33.0704</td>\n",
              "      <td>36.3160</td>\n",
              "      <td>42.5746</td>\n",
              "      <td>49.7495</td>\n",
              "      <td>31.7533</td>\n",
              "      <td>57.7289</td>\n",
              "      <td>53.6275</td>\n",
              "      <td>56.9212</td>\n",
              "      <td>47.8255</td>\n",
              "      <td>62.9436</td>\n",
              "    </tr>\n",
              "    <tr>\n",
              "      <th>3</th>\n",
              "      <td>0.926</td>\n",
              "      <td>0.0</td>\n",
              "      <td>55.8400</td>\n",
              "      <td>26.6200</td>\n",
              "      <td>241.1461</td>\n",
              "      <td>0.2042</td>\n",
              "      <td>29.5749</td>\n",
              "      <td>NaN</td>\n",
              "      <td>NaN</td>\n",
              "      <td>NaN</td>\n",
              "      <td>58.3847</td>\n",
              "      <td>67.5130</td>\n",
              "      <td>68.0064</td>\n",
              "      <td>59.2824</td>\n",
              "      <td>NaN</td>\n",
              "      <td>66.0832</td>\n",
              "      <td>66.8349</td>\n",
              "      <td>NaN</td>\n",
              "      <td>50.3730</td>\n",
              "      <td>NaN</td>\n",
              "    </tr>\n",
              "    <tr>\n",
              "      <th>4</th>\n",
              "      <td>1.234</td>\n",
              "      <td>0.0</td>\n",
              "      <td>NaN</td>\n",
              "      <td>NaN</td>\n",
              "      <td>NaN</td>\n",
              "      <td>0.2030</td>\n",
              "      <td>49.5111</td>\n",
              "      <td>67.0368</td>\n",
              "      <td>77.8317</td>\n",
              "      <td>27.9625</td>\n",
              "      <td>71.7732</td>\n",
              "      <td>NaN</td>\n",
              "      <td>79.8631</td>\n",
              "      <td>NaN</td>\n",
              "      <td>NaN</td>\n",
              "      <td>68.1441</td>\n",
              "      <td>62.0947</td>\n",
              "      <td>49.4614</td>\n",
              "      <td>52.8453</td>\n",
              "      <td>66.8445</td>\n",
              "    </tr>\n",
              "    <tr>\n",
              "      <th>...</th>\n",
              "      <td>...</td>\n",
              "      <td>...</td>\n",
              "      <td>...</td>\n",
              "      <td>...</td>\n",
              "      <td>...</td>\n",
              "      <td>...</td>\n",
              "      <td>...</td>\n",
              "      <td>...</td>\n",
              "      <td>...</td>\n",
              "      <td>...</td>\n",
              "      <td>...</td>\n",
              "      <td>...</td>\n",
              "      <td>...</td>\n",
              "      <td>...</td>\n",
              "      <td>...</td>\n",
              "      <td>...</td>\n",
              "      <td>...</td>\n",
              "      <td>...</td>\n",
              "      <td>...</td>\n",
              "      <td>...</td>\n",
              "    </tr>\n",
              "    <tr>\n",
              "      <th>295714</th>\n",
              "      <td>90908.545</td>\n",
              "      <td>0.0</td>\n",
              "      <td>NaN</td>\n",
              "      <td>NaN</td>\n",
              "      <td>0.0000</td>\n",
              "      <td>0.2000</td>\n",
              "      <td>5.5429</td>\n",
              "      <td>2.5713</td>\n",
              "      <td>10.3815</td>\n",
              "      <td>18.5796</td>\n",
              "      <td>36.4589</td>\n",
              "      <td>34.4549</td>\n",
              "      <td>38.3745</td>\n",
              "      <td>57.5888</td>\n",
              "      <td>45.7953</td>\n",
              "      <td>56.6351</td>\n",
              "      <td>56.4058</td>\n",
              "      <td>50.6129</td>\n",
              "      <td>43.0232</td>\n",
              "      <td>NaN</td>\n",
              "    </tr>\n",
              "    <tr>\n",
              "      <th>295715</th>\n",
              "      <td>90908.853</td>\n",
              "      <td>0.0</td>\n",
              "      <td>62.3000</td>\n",
              "      <td>26.5800</td>\n",
              "      <td>NaN</td>\n",
              "      <td>NaN</td>\n",
              "      <td>4.5527</td>\n",
              "      <td>2.1454</td>\n",
              "      <td>8.5494</td>\n",
              "      <td>18.0592</td>\n",
              "      <td>NaN</td>\n",
              "      <td>34.0052</td>\n",
              "      <td>37.6964</td>\n",
              "      <td>51.9752</td>\n",
              "      <td>45.0239</td>\n",
              "      <td>58.9374</td>\n",
              "      <td>61.6173</td>\n",
              "      <td>NaN</td>\n",
              "      <td>NaN</td>\n",
              "      <td>63.8761</td>\n",
              "    </tr>\n",
              "    <tr>\n",
              "      <th>295716</th>\n",
              "      <td>NaN</td>\n",
              "      <td>0.0</td>\n",
              "      <td>62.3000</td>\n",
              "      <td>26.5800</td>\n",
              "      <td>0.0000</td>\n",
              "      <td>0.2000</td>\n",
              "      <td>3.7374</td>\n",
              "      <td>1.8492</td>\n",
              "      <td>7.1062</td>\n",
              "      <td>NaN</td>\n",
              "      <td>NaN</td>\n",
              "      <td>32.5056</td>\n",
              "      <td>NaN</td>\n",
              "      <td>54.4724</td>\n",
              "      <td>45.0239</td>\n",
              "      <td>59.7462</td>\n",
              "      <td>57.1452</td>\n",
              "      <td>51.8182</td>\n",
              "      <td>42.5944</td>\n",
              "      <td>64.3090</td>\n",
              "    </tr>\n",
              "    <tr>\n",
              "      <th>295717</th>\n",
              "      <td>90909.469</td>\n",
              "      <td>0.0</td>\n",
              "      <td>62.3000</td>\n",
              "      <td>26.5800</td>\n",
              "      <td>0.0000</td>\n",
              "      <td>0.2000</td>\n",
              "      <td>3.1197</td>\n",
              "      <td>1.6190</td>\n",
              "      <td>NaN</td>\n",
              "      <td>17.6950</td>\n",
              "      <td>37.5930</td>\n",
              "      <td>30.5253</td>\n",
              "      <td>35.9328</td>\n",
              "      <td>51.9752</td>\n",
              "      <td>45.5201</td>\n",
              "      <td>57.7289</td>\n",
              "      <td>60.3791</td>\n",
              "      <td>50.3466</td>\n",
              "      <td>42.4022</td>\n",
              "      <td>62.0375</td>\n",
              "    </tr>\n",
              "    <tr>\n",
              "      <th>295718</th>\n",
              "      <td>90909.778</td>\n",
              "      <td>0.0</td>\n",
              "      <td>62.3000</td>\n",
              "      <td>26.5800</td>\n",
              "      <td>0.0000</td>\n",
              "      <td>0.2000</td>\n",
              "      <td>2.6417</td>\n",
              "      <td>1.4409</td>\n",
              "      <td>NaN</td>\n",
              "      <td>17.0448</td>\n",
              "      <td>35.1252</td>\n",
              "      <td>29.4024</td>\n",
              "      <td>35.2025</td>\n",
              "      <td>NaN</td>\n",
              "      <td>43.1405</td>\n",
              "      <td>58.1498</td>\n",
              "      <td>56.0760</td>\n",
              "      <td>51.5393</td>\n",
              "      <td>41.9854</td>\n",
              "      <td>47.5339</td>\n",
              "    </tr>\n",
              "  </tbody>\n",
              "</table>\n",
              "<p>295719 rows × 20 columns</p>\n",
              "</div>\n",
              "      <button class=\"colab-df-convert\" onclick=\"convertToInteractive('df-b67ed892-a48b-4197-a48e-9bd0f4e77a35')\"\n",
              "              title=\"Convert this dataframe to an interactive table.\"\n",
              "              style=\"display:none;\">\n",
              "        \n",
              "  <svg xmlns=\"http://www.w3.org/2000/svg\" height=\"24px\"viewBox=\"0 0 24 24\"\n",
              "       width=\"24px\">\n",
              "    <path d=\"M0 0h24v24H0V0z\" fill=\"none\"/>\n",
              "    <path d=\"M18.56 5.44l.94 2.06.94-2.06 2.06-.94-2.06-.94-.94-2.06-.94 2.06-2.06.94zm-11 1L8.5 8.5l.94-2.06 2.06-.94-2.06-.94L8.5 2.5l-.94 2.06-2.06.94zm10 10l.94 2.06.94-2.06 2.06-.94-2.06-.94-.94-2.06-.94 2.06-2.06.94z\"/><path d=\"M17.41 7.96l-1.37-1.37c-.4-.4-.92-.59-1.43-.59-.52 0-1.04.2-1.43.59L10.3 9.45l-7.72 7.72c-.78.78-.78 2.05 0 2.83L4 21.41c.39.39.9.59 1.41.59.51 0 1.02-.2 1.41-.59l7.78-7.78 2.81-2.81c.8-.78.8-2.07 0-2.86zM5.41 20L4 18.59l7.72-7.72 1.47 1.35L5.41 20z\"/>\n",
              "  </svg>\n",
              "      </button>\n",
              "      \n",
              "  <style>\n",
              "    .colab-df-container {\n",
              "      display:flex;\n",
              "      flex-wrap:wrap;\n",
              "      gap: 12px;\n",
              "    }\n",
              "\n",
              "    .colab-df-convert {\n",
              "      background-color: #E8F0FE;\n",
              "      border: none;\n",
              "      border-radius: 50%;\n",
              "      cursor: pointer;\n",
              "      display: none;\n",
              "      fill: #1967D2;\n",
              "      height: 32px;\n",
              "      padding: 0 0 0 0;\n",
              "      width: 32px;\n",
              "    }\n",
              "\n",
              "    .colab-df-convert:hover {\n",
              "      background-color: #E2EBFA;\n",
              "      box-shadow: 0px 1px 2px rgba(60, 64, 67, 0.3), 0px 1px 3px 1px rgba(60, 64, 67, 0.15);\n",
              "      fill: #174EA6;\n",
              "    }\n",
              "\n",
              "    [theme=dark] .colab-df-convert {\n",
              "      background-color: #3B4455;\n",
              "      fill: #D2E3FC;\n",
              "    }\n",
              "\n",
              "    [theme=dark] .colab-df-convert:hover {\n",
              "      background-color: #434B5C;\n",
              "      box-shadow: 0px 1px 3px 1px rgba(0, 0, 0, 0.15);\n",
              "      filter: drop-shadow(0px 1px 2px rgba(0, 0, 0, 0.3));\n",
              "      fill: #FFFFFF;\n",
              "    }\n",
              "  </style>\n",
              "\n",
              "      <script>\n",
              "        const buttonEl =\n",
              "          document.querySelector('#df-b67ed892-a48b-4197-a48e-9bd0f4e77a35 button.colab-df-convert');\n",
              "        buttonEl.style.display =\n",
              "          google.colab.kernel.accessAllowed ? 'block' : 'none';\n",
              "\n",
              "        async function convertToInteractive(key) {\n",
              "          const element = document.querySelector('#df-b67ed892-a48b-4197-a48e-9bd0f4e77a35');\n",
              "          const dataTable =\n",
              "            await google.colab.kernel.invokeFunction('convertToInteractive',\n",
              "                                                     [key], {});\n",
              "          if (!dataTable) return;\n",
              "\n",
              "          const docLinkHtml = 'Like what you see? Visit the ' +\n",
              "            '<a target=\"_blank\" href=https://colab.research.google.com/notebooks/data_table.ipynb>data table notebook</a>'\n",
              "            + ' to learn more about interactive tables.';\n",
              "          element.innerHTML = '';\n",
              "          dataTable['output_type'] = 'display_data';\n",
              "          await google.colab.output.renderOutput(dataTable, element);\n",
              "          const docLink = document.createElement('div');\n",
              "          docLink.innerHTML = docLinkHtml;\n",
              "          element.appendChild(docLink);\n",
              "        }\n",
              "      </script>\n",
              "    </div>\n",
              "  </div>\n",
              "  "
            ]
          },
          "metadata": {},
          "execution_count": 78
        }
      ]
    },
    {
      "cell_type": "code",
      "source": [
        "time=dfnew['Time (s)'].median()"
      ],
      "metadata": {
        "id": "QTy_td7ZlW-c"
      },
      "execution_count": null,
      "outputs": []
    },
    {
      "cell_type": "code",
      "source": [
        "time"
      ],
      "metadata": {
        "colab": {
          "base_uri": "https://localhost:8080/"
        },
        "id": "qRsFaD67lsMj",
        "outputId": "d2461c29-2f73-4c44-8609-ae3e5a843839"
      },
      "execution_count": null,
      "outputs": [
        {
          "output_type": "execute_result",
          "data": {
            "text/plain": [
              "45466.8585"
            ]
          },
          "metadata": {},
          "execution_count": 80
        }
      ]
    },
    {
      "cell_type": "markdown",
      "source": [
        "FILLING NULL VALUES"
      ],
      "metadata": {
        "id": "EFyuGgaDbdbQ"
      }
    },
    {
      "cell_type": "code",
      "source": [
        "dfnew['Time (s)'].fillna(time,inplace=True)\n",
        "dfnew.isnull().sum()"
      ],
      "metadata": {
        "colab": {
          "base_uri": "https://localhost:8080/"
        },
        "id": "nm3z4ZxXltD1",
        "outputId": "b6eb00d5-990b-4df9-a21f-fdaf390727bb"
      },
      "execution_count": null,
      "outputs": [
        {
          "output_type": "execute_result",
          "data": {
            "text/plain": [
              "Time (s)                  0\n",
              "CO (ppm)                  0\n",
              "Humidity (%r.h.)      44373\n",
              "Temperature (C)       44083\n",
              "Flow rate (mL/min)    44277\n",
              "Heater voltage (V)    44130\n",
              "R1 (MOhm)             44417\n",
              "R2 (MOhm)             44191\n",
              "R3 (MOhm)             44387\n",
              "R4 (MOhm)             44660\n",
              "R5 (MOhm)             44262\n",
              "R6 (MOhm)             44229\n",
              "R7 (MOhm)             44256\n",
              "R8 (MOhm)             44499\n",
              "R9 (MOhm)             44432\n",
              "R10 (MOhm)            44400\n",
              "R11 (MOhm)            44347\n",
              "R12 (MOhm)            44448\n",
              "R13 (MOhm)            44284\n",
              "R14 (MOhm)            44542\n",
              "dtype: int64"
            ]
          },
          "metadata": {},
          "execution_count": 81
        }
      ]
    },
    {
      "cell_type": "code",
      "source": [
        "dfnew['Humidity (%r.h.)'].fillna(dfnew['Humidity (%r.h.)'].mean(),inplace=True)"
      ],
      "metadata": {
        "id": "8lJ1mbkSl9A_"
      },
      "execution_count": null,
      "outputs": []
    },
    {
      "cell_type": "code",
      "source": [
        "dfnew['Flow rate (mL/min)'].fillna(dfnew['Flow rate (mL/min)'].mean(),inplace=True)"
      ],
      "metadata": {
        "id": "lFXHn8zmmiIb"
      },
      "execution_count": null,
      "outputs": []
    },
    {
      "cell_type": "code",
      "source": [
        "dfnew['Temperature (C)'].fillna(dfnew['Temperature (C)'].mean(),inplace=True)"
      ],
      "metadata": {
        "id": "Cmjgt-1ymko_"
      },
      "execution_count": null,
      "outputs": []
    },
    {
      "cell_type": "code",
      "source": [
        "dfnew['Heater voltage (V)'].fillna(dfnew['Heater voltage (V)'].mean(),inplace=True)"
      ],
      "metadata": {
        "id": "0fTz22fnnJga"
      },
      "execution_count": null,
      "outputs": []
    },
    {
      "cell_type": "code",
      "source": [
        "dfnew['R13 (MOhm)'].fillna(dfnew['R13 (MOhm)'].mean(),inplace=True)"
      ],
      "metadata": {
        "id": "YP8FJXdxnPAx"
      },
      "execution_count": null,
      "outputs": []
    },
    {
      "cell_type": "code",
      "source": [
        "dfnew['R14 (MOhm)'].fillna(dfnew['R14 (MOhm)'].mean(),inplace=True)"
      ],
      "metadata": {
        "id": "6y8VE1xNnPqt"
      },
      "execution_count": null,
      "outputs": []
    },
    {
      "cell_type": "code",
      "source": [
        "dfnew['R12 (MOhm)'].fillna(dfnew['R12 (MOhm)'].mean(),inplace=True)"
      ],
      "metadata": {
        "id": "UDxqgCg3nQLS"
      },
      "execution_count": null,
      "outputs": []
    },
    {
      "cell_type": "code",
      "source": [
        "dfnew['R11 (MOhm)'].fillna(dfnew['R11 (MOhm)'].mean(),inplace=True)"
      ],
      "metadata": {
        "id": "kJwwFIoNnQhc"
      },
      "execution_count": null,
      "outputs": []
    },
    {
      "cell_type": "code",
      "source": [
        "dfnew['R10 (MOhm)'].fillna(dfnew['R10 (MOhm)'].mean(),inplace=True)"
      ],
      "metadata": {
        "id": "9h9X_JPZnQ2r"
      },
      "execution_count": null,
      "outputs": []
    },
    {
      "cell_type": "code",
      "source": [
        "dfnew['R9 (MOhm)'].fillna(dfnew['R9 (MOhm)'].mean(),inplace=True)"
      ],
      "metadata": {
        "id": "ZdT7HYB7nRH3"
      },
      "execution_count": null,
      "outputs": []
    },
    {
      "cell_type": "code",
      "source": [
        "dfnew['R8 (MOhm)'].fillna(dfnew['R8 (MOhm)'].mean(),inplace=True)"
      ],
      "metadata": {
        "id": "q_uLNf-GnRfX"
      },
      "execution_count": null,
      "outputs": []
    },
    {
      "cell_type": "code",
      "source": [
        "dfnew['R7 (MOhm)'].fillna(dfnew['R7 (MOhm)'].mean(),inplace=True)"
      ],
      "metadata": {
        "id": "Dpb9c_YInRvv"
      },
      "execution_count": null,
      "outputs": []
    },
    {
      "cell_type": "code",
      "source": [
        "dfnew['R6 (MOhm)'].fillna(dfnew['R6 (MOhm)'].mean(),inplace=True)"
      ],
      "metadata": {
        "id": "AJpRkOkpnSL6"
      },
      "execution_count": null,
      "outputs": []
    },
    {
      "cell_type": "code",
      "source": [
        "dfnew['R5 (MOhm)'].fillna(dfnew['R5 (MOhm)'].mean(),inplace=True)"
      ],
      "metadata": {
        "id": "3N_KLM5InSed"
      },
      "execution_count": null,
      "outputs": []
    },
    {
      "cell_type": "code",
      "source": [
        "dfnew['R4 (MOhm)'].fillna(dfnew['R4 (MOhm)'].mean(),inplace=True)"
      ],
      "metadata": {
        "id": "7qJNDoNvnSve"
      },
      "execution_count": null,
      "outputs": []
    },
    {
      "cell_type": "code",
      "source": [
        "dfnew['R3 (MOhm)'].fillna(dfnew['R3 (MOhm)'].mean(),inplace=True)"
      ],
      "metadata": {
        "id": "JZdcskFenTBB"
      },
      "execution_count": null,
      "outputs": []
    },
    {
      "cell_type": "code",
      "source": [
        "dfnew['R2 (MOhm)'].fillna(dfnew['R2 (MOhm)'].mean(),inplace=True)"
      ],
      "metadata": {
        "id": "AntlsuIEnTQJ"
      },
      "execution_count": null,
      "outputs": []
    },
    {
      "cell_type": "code",
      "source": [
        "dfnew['R1 (MOhm)'].fillna(dfnew['R1 (MOhm)'].mean(),inplace=True)"
      ],
      "metadata": {
        "id": "kxkrPNCXnTdp"
      },
      "execution_count": null,
      "outputs": []
    },
    {
      "cell_type": "code",
      "source": [
        "dfnew.isnull().sum()"
      ],
      "metadata": {
        "colab": {
          "base_uri": "https://localhost:8080/"
        },
        "id": "K05JcQLGnTp5",
        "outputId": "9d8b4022-66ed-4937-e14c-64d25e0b5cad"
      },
      "execution_count": null,
      "outputs": [
        {
          "output_type": "execute_result",
          "data": {
            "text/plain": [
              "Time (s)              0\n",
              "CO (ppm)              0\n",
              "Humidity (%r.h.)      0\n",
              "Temperature (C)       0\n",
              "Flow rate (mL/min)    0\n",
              "Heater voltage (V)    0\n",
              "R1 (MOhm)             0\n",
              "R2 (MOhm)             0\n",
              "R3 (MOhm)             0\n",
              "R4 (MOhm)             0\n",
              "R5 (MOhm)             0\n",
              "R6 (MOhm)             0\n",
              "R7 (MOhm)             0\n",
              "R8 (MOhm)             0\n",
              "R9 (MOhm)             0\n",
              "R10 (MOhm)            0\n",
              "R11 (MOhm)            0\n",
              "R12 (MOhm)            0\n",
              "R13 (MOhm)            0\n",
              "R14 (MOhm)            0\n",
              "dtype: int64"
            ]
          },
          "metadata": {},
          "execution_count": 100
        }
      ]
    },
    {
      "cell_type": "code",
      "source": [
        "df.isnull().sum()"
      ],
      "metadata": {
        "colab": {
          "base_uri": "https://localhost:8080/"
        },
        "id": "TOvc3CnPvuh9",
        "outputId": "f34f6a4e-efe9-419e-be44-9095eada2056"
      },
      "execution_count": null,
      "outputs": [
        {
          "output_type": "execute_result",
          "data": {
            "text/plain": [
              "Time (s)              0\n",
              "CO (ppm)              0\n",
              "Humidity (%r.h.)      0\n",
              "Temperature (C)       0\n",
              "Flow rate (mL/min)    0\n",
              "Heater voltage (V)    0\n",
              "R1 (MOhm)             0\n",
              "R2 (MOhm)             0\n",
              "R3 (MOhm)             0\n",
              "R4 (MOhm)             0\n",
              "R5 (MOhm)             0\n",
              "R6 (MOhm)             0\n",
              "R7 (MOhm)             0\n",
              "R8 (MOhm)             0\n",
              "R9 (MOhm)             0\n",
              "R10 (MOhm)            0\n",
              "R11 (MOhm)            0\n",
              "R12 (MOhm)            0\n",
              "R13 (MOhm)            0\n",
              "R14 (MOhm)            0\n",
              "dtype: int64"
            ]
          },
          "metadata": {},
          "execution_count": 457
        }
      ]
    },
    {
      "cell_type": "code",
      "source": [
        "# from sklearn.preprocessing import MinMaxScaler\n",
        "# mms = MinMaxScaler()\n",
        "# df[['Time (s)',\t'Humidity (%r.h.)',\t'Temperature (C)',\t'Flow rate (mL/min)',\t'Heater voltage (V)',\t'R1 (MOhm)','R2 (MOhm)',\t'R3 (MOhm)',\t'R4 (MOhm)',\t'R5 (MOhm)',\t'R6 (MOhm)',\t'R7 (MOhm)',\t'R8 (MOhm)',\t'R9 (MOhm)',\t'R10 (MOhm)',\t'R11 (MOhm)',\t'R12 (MOhm)',\t'R13 (MOhm)',\t'R14 (MOhm)','CO (ppm)']] = mms.fit_transform(df[['Time (s)',\t'Humidity (%r.h.)',\t'Temperature (C)',\t'Flow rate (mL/min)',\t'Heater voltage (V)',\t'R1 (MOhm)','R2 (MOhm)',\t'R3 (MOhm)',\t'R4 (MOhm)',\t'R5 (MOhm)',\t'R6 (MOhm)',\t'R7 (MOhm)',\t'R8 (MOhm)',\t'R9 (MOhm)',\t'R10 (MOhm)',\t'R11 (MOhm)',\t'R12 (MOhm)',\t'R13 (MOhm)',\t'R14 (MOhm)','CO (ppm)']])"
      ],
      "metadata": {
        "id": "vvLfuWRaGNUI"
      },
      "execution_count": null,
      "outputs": []
    },
    {
      "cell_type": "markdown",
      "source": [
        "Dropping Flow rate,Heater voltage,R3 (since, less correlation)"
      ],
      "metadata": {
        "id": "qtCWuTSL_kau"
      }
    },
    {
      "cell_type": "code",
      "source": [
        "dff= df[['Time (s)','Humidity (%r.h.)',\t'Temperature (C)','R1 (MOhm)','R2 (MOhm)','R4 (MOhm)',\t'R5 (MOhm)',\t'R6 (MOhm)',\t'R7 (MOhm)',\t'R8 (MOhm)',\t'R9 (MOhm)',\t'R10 (MOhm)',\t'R11 (MOhm)',\t'R12 (MOhm)',\t'R13 (MOhm)',\t'R14 (MOhm)','CO (ppm)']]"
      ],
      "metadata": {
        "id": "OICe1nluv8Nt"
      },
      "execution_count": null,
      "outputs": []
    },
    {
      "cell_type": "code",
      "source": [
        "dff.corr()['CO (ppm)']"
      ],
      "metadata": {
        "colab": {
          "base_uri": "https://localhost:8080/"
        },
        "id": "ShXgP8ahwJl7",
        "outputId": "f52c5de3-295e-4189-dfa8-fd13ed4f98a7"
      },
      "execution_count": null,
      "outputs": [
        {
          "output_type": "execute_result",
          "data": {
            "text/plain": [
              "Time (s)           -0.008392\n",
              "Humidity (%r.h.)   -0.097071\n",
              "Temperature (C)    -0.121338\n",
              "R1 (MOhm)           0.012549\n",
              "R2 (MOhm)           0.018692\n",
              "R4 (MOhm)          -0.029632\n",
              "R5 (MOhm)          -0.069518\n",
              "R6 (MOhm)          -0.052116\n",
              "R7 (MOhm)          -0.063786\n",
              "R8 (MOhm)          -0.414961\n",
              "R9 (MOhm)          -0.421173\n",
              "R10 (MOhm)         -0.483029\n",
              "R11 (MOhm)         -0.455957\n",
              "R12 (MOhm)         -0.433445\n",
              "R13 (MOhm)         -0.467157\n",
              "R14 (MOhm)         -0.472403\n",
              "CO (ppm)            1.000000\n",
              "Name: CO (ppm), dtype: float64"
            ]
          },
          "metadata": {},
          "execution_count": 156
        }
      ]
    },
    {
      "cell_type": "markdown",
      "source": [
        "SPLIT TRAIN AND TEST DATA"
      ],
      "metadata": {
        "id": "6PjbW0Ihbl2H"
      }
    },
    {
      "cell_type": "code",
      "source": [
        "X=dff.iloc[:,:-1]\n",
        "y=dff.iloc[:,-1]"
      ],
      "metadata": {
        "id": "fbo3Pwq_wJpD"
      },
      "execution_count": null,
      "outputs": []
    },
    {
      "cell_type": "code",
      "source": [
        "# dff1= df[['Temperature (C)','Heater voltage (V)','R4 (MOhm)','R9 (MOhm)',\t'R10 (MOhm)',\t'R11 (MOhm)',\t'R12 (MOhm)',\t'R13 (MOhm)',\t'R14 (MOhm)','CO (ppm)']]"
      ],
      "metadata": {
        "id": "urHQ9HC3FfNs"
      },
      "execution_count": null,
      "outputs": []
    },
    {
      "cell_type": "code",
      "source": [
        "# X=dff1.iloc[:,:-1]\n",
        "# y=dff1.iloc[:,-1]"
      ],
      "metadata": {
        "id": "MEgk2aZeFvnX"
      },
      "execution_count": null,
      "outputs": []
    },
    {
      "cell_type": "markdown",
      "source": [
        "USING KNN REGRESSION MODEL"
      ],
      "metadata": {
        "id": "EfwByBqvbzd1"
      }
    },
    {
      "cell_type": "code",
      "source": [
        "from sklearn.model_selection import train_test_split\n",
        "from sklearn.linear_model import LinearRegression\n",
        "from sklearn.neighbors import KNeighborsRegressor\n",
        "X_train, X_test, y_train, y_test = train_test_split(X, y, test_size = 0.3, random_state=42)\n",
        "knn_model = KNeighborsRegressor(n_neighbors=5).fit(X_train, y_train)\n",
        "# Score\n",
        "score_knn = knn_model.score(X_test, y_test)\n",
        "score_knn"
      ],
      "metadata": {
        "colab": {
          "base_uri": "https://localhost:8080/"
        },
        "id": "a4fIXVKg1Tex",
        "outputId": "f23f9cd6-1707-4412-e4ac-6c5209d93a07"
      },
      "execution_count": null,
      "outputs": [
        {
          "output_type": "execute_result",
          "data": {
            "text/plain": [
              "0.9274656396662129"
            ]
          },
          "metadata": {},
          "execution_count": 158
        }
      ]
    },
    {
      "cell_type": "code",
      "source": [
        "preds = knn_model.predict(X_test)"
      ],
      "metadata": {
        "id": "PtxlESIi9FPA"
      },
      "execution_count": null,
      "outputs": []
    },
    {
      "cell_type": "code",
      "source": [
        "from sklearn.metrics import r2_score\n",
        "r2 = r2_score(y_test, preds)\n",
        "print(r2)"
      ],
      "metadata": {
        "colab": {
          "base_uri": "https://localhost:8080/"
        },
        "id": "rpR5bvgb9Wnl",
        "outputId": "97149489-a5ae-4298-de38-a9a77b588a7a"
      },
      "execution_count": null,
      "outputs": [
        {
          "output_type": "stream",
          "name": "stdout",
          "text": [
            "0.9274656396662129\n"
          ]
        }
      ]
    },
    {
      "cell_type": "code",
      "source": [
        "dd=pd.read_csv(\"testing set.csv\")\n",
        "dd"
      ],
      "metadata": {
        "colab": {
          "base_uri": "https://localhost:8080/",
          "height": 522
        },
        "id": "aruWDajr6ClW",
        "outputId": "6fb9a53a-f895-4bf0-8de9-154c9c01dc21"
      },
      "execution_count": null,
      "outputs": [
        {
          "output_type": "execute_result",
          "data": {
            "text/plain": [
              "       Time (s)  Humidity (%r.h.)  Temperature (C)  Flow rate (mL/min)  \\\n",
              "0     73298.059           60.8200          26.5400            239.9147   \n",
              "1     39657.889           19.7500          26.2200            239.9795   \n",
              "2           NaN           18.6300          26.2200            240.0518   \n",
              "3     60476.431           61.8184          26.6199                 NaN   \n",
              "4     20535.490           41.9500          26.3800            240.1657   \n",
              "...         ...               ...              ...                 ...   \n",
              "9995  15167.720           48.6900          26.3800            240.0934   \n",
              "9996  42115.221           41.4100          26.3000            240.0404   \n",
              "9997        NaN               NaN          26.5000            239.8236   \n",
              "9998  42155.009           41.4100              NaN            239.9119   \n",
              "9999  10203.142           33.9900          26.3800            239.9924   \n",
              "\n",
              "      Heater voltage (V)  R1 (MOhm)  R2 (MOhm)  R3 (MOhm)  R4 (MOhm)  \\\n",
              "0                 0.2000     1.9076     1.5491     5.0636    19.5626   \n",
              "1                 0.2000    26.5940    36.8459    56.9725        NaN   \n",
              "2                 0.1992    18.0553    25.5357    55.9066    50.0544   \n",
              "3                 0.2000     0.4904     0.5267     0.6875     4.1022   \n",
              "4                 0.2000     1.6856     1.3005     3.4241    20.9492   \n",
              "...                  ...        ...        ...        ...        ...   \n",
              "9995              0.8990     0.0905     0.1426     0.1253        NaN   \n",
              "9996              0.2000     6.1407     3.5703    18.1072    37.4095   \n",
              "9997              0.2000    13.2774     7.7470    26.2677    29.0823   \n",
              "9998              0.2000    30.3051    26.5940    51.8946    38.8066   \n",
              "9999                 NaN     4.0292     2.1784     9.0485    27.3300   \n",
              "\n",
              "      R5 (MOhm)  R6 (MOhm)  R7 (MOhm)  R8 (MOhm)  R9 (MOhm)  R10 (MOhm)  \\\n",
              "0           NaN    27.7636    36.4079    27.1697    21.6868     25.5373   \n",
              "1       63.4677    60.5782    64.5292    41.0575        NaN     39.8853   \n",
              "2       69.5025    66.4281    71.3400    58.4235    51.7813     54.8161   \n",
              "3        3.5816     2.5614        NaN    20.9540    15.2577     17.5911   \n",
              "4       26.7869    18.6831    26.7960        NaN    18.0844     19.0424   \n",
              "...         ...        ...        ...        ...        ...         ...   \n",
              "9995     0.1229        NaN     0.1307     0.0996        NaN         NaN   \n",
              "9996    63.0524    59.3098        NaN    64.5356    47.9178         NaN   \n",
              "9997    47.0253    43.9737    47.7780    56.4158    49.0530     54.8161   \n",
              "9998    62.5610    67.0156    68.5895    57.2171    57.9460     62.7987   \n",
              "9999    39.3142    34.2948    38.8829    48.8133    40.4067     49.2128   \n",
              "\n",
              "      R11 (MOhm)  R12 (MOhm)  R13 (MOhm)  R14 (MOhm)  \n",
              "0        31.9314     26.9859         NaN     27.8716  \n",
              "1            NaN     40.6368     40.0160     44.8085  \n",
              "2        62.9890     53.4361     52.2052     63.3641  \n",
              "3        21.5547         NaN     15.2109     20.2276  \n",
              "4        23.9317     21.1555         NaN         NaN  \n",
              "...          ...         ...         ...         ...  \n",
              "9995         NaN      0.1078      0.1011      0.1067  \n",
              "9996     57.5565     55.4749     52.8453     61.1567  \n",
              "9997     56.8068     51.8182         NaN         NaN  \n",
              "9998     62.4980     58.8007     57.7974     67.3181  \n",
              "9999     49.3620         NaN     40.0160     53.1748  \n",
              "\n",
              "[10000 rows x 19 columns]"
            ],
            "text/html": [
              "\n",
              "  <div id=\"df-26ca128f-df94-456f-9c6c-55c1927a3484\">\n",
              "    <div class=\"colab-df-container\">\n",
              "      <div>\n",
              "<style scoped>\n",
              "    .dataframe tbody tr th:only-of-type {\n",
              "        vertical-align: middle;\n",
              "    }\n",
              "\n",
              "    .dataframe tbody tr th {\n",
              "        vertical-align: top;\n",
              "    }\n",
              "\n",
              "    .dataframe thead th {\n",
              "        text-align: right;\n",
              "    }\n",
              "</style>\n",
              "<table border=\"1\" class=\"dataframe\">\n",
              "  <thead>\n",
              "    <tr style=\"text-align: right;\">\n",
              "      <th></th>\n",
              "      <th>Time (s)</th>\n",
              "      <th>Humidity (%r.h.)</th>\n",
              "      <th>Temperature (C)</th>\n",
              "      <th>Flow rate (mL/min)</th>\n",
              "      <th>Heater voltage (V)</th>\n",
              "      <th>R1 (MOhm)</th>\n",
              "      <th>R2 (MOhm)</th>\n",
              "      <th>R3 (MOhm)</th>\n",
              "      <th>R4 (MOhm)</th>\n",
              "      <th>R5 (MOhm)</th>\n",
              "      <th>R6 (MOhm)</th>\n",
              "      <th>R7 (MOhm)</th>\n",
              "      <th>R8 (MOhm)</th>\n",
              "      <th>R9 (MOhm)</th>\n",
              "      <th>R10 (MOhm)</th>\n",
              "      <th>R11 (MOhm)</th>\n",
              "      <th>R12 (MOhm)</th>\n",
              "      <th>R13 (MOhm)</th>\n",
              "      <th>R14 (MOhm)</th>\n",
              "    </tr>\n",
              "  </thead>\n",
              "  <tbody>\n",
              "    <tr>\n",
              "      <th>0</th>\n",
              "      <td>73298.059</td>\n",
              "      <td>60.8200</td>\n",
              "      <td>26.5400</td>\n",
              "      <td>239.9147</td>\n",
              "      <td>0.2000</td>\n",
              "      <td>1.9076</td>\n",
              "      <td>1.5491</td>\n",
              "      <td>5.0636</td>\n",
              "      <td>19.5626</td>\n",
              "      <td>NaN</td>\n",
              "      <td>27.7636</td>\n",
              "      <td>36.4079</td>\n",
              "      <td>27.1697</td>\n",
              "      <td>21.6868</td>\n",
              "      <td>25.5373</td>\n",
              "      <td>31.9314</td>\n",
              "      <td>26.9859</td>\n",
              "      <td>NaN</td>\n",
              "      <td>27.8716</td>\n",
              "    </tr>\n",
              "    <tr>\n",
              "      <th>1</th>\n",
              "      <td>39657.889</td>\n",
              "      <td>19.7500</td>\n",
              "      <td>26.2200</td>\n",
              "      <td>239.9795</td>\n",
              "      <td>0.2000</td>\n",
              "      <td>26.5940</td>\n",
              "      <td>36.8459</td>\n",
              "      <td>56.9725</td>\n",
              "      <td>NaN</td>\n",
              "      <td>63.4677</td>\n",
              "      <td>60.5782</td>\n",
              "      <td>64.5292</td>\n",
              "      <td>41.0575</td>\n",
              "      <td>NaN</td>\n",
              "      <td>39.8853</td>\n",
              "      <td>NaN</td>\n",
              "      <td>40.6368</td>\n",
              "      <td>40.0160</td>\n",
              "      <td>44.8085</td>\n",
              "    </tr>\n",
              "    <tr>\n",
              "      <th>2</th>\n",
              "      <td>NaN</td>\n",
              "      <td>18.6300</td>\n",
              "      <td>26.2200</td>\n",
              "      <td>240.0518</td>\n",
              "      <td>0.1992</td>\n",
              "      <td>18.0553</td>\n",
              "      <td>25.5357</td>\n",
              "      <td>55.9066</td>\n",
              "      <td>50.0544</td>\n",
              "      <td>69.5025</td>\n",
              "      <td>66.4281</td>\n",
              "      <td>71.3400</td>\n",
              "      <td>58.4235</td>\n",
              "      <td>51.7813</td>\n",
              "      <td>54.8161</td>\n",
              "      <td>62.9890</td>\n",
              "      <td>53.4361</td>\n",
              "      <td>52.2052</td>\n",
              "      <td>63.3641</td>\n",
              "    </tr>\n",
              "    <tr>\n",
              "      <th>3</th>\n",
              "      <td>60476.431</td>\n",
              "      <td>61.8184</td>\n",
              "      <td>26.6199</td>\n",
              "      <td>NaN</td>\n",
              "      <td>0.2000</td>\n",
              "      <td>0.4904</td>\n",
              "      <td>0.5267</td>\n",
              "      <td>0.6875</td>\n",
              "      <td>4.1022</td>\n",
              "      <td>3.5816</td>\n",
              "      <td>2.5614</td>\n",
              "      <td>NaN</td>\n",
              "      <td>20.9540</td>\n",
              "      <td>15.2577</td>\n",
              "      <td>17.5911</td>\n",
              "      <td>21.5547</td>\n",
              "      <td>NaN</td>\n",
              "      <td>15.2109</td>\n",
              "      <td>20.2276</td>\n",
              "    </tr>\n",
              "    <tr>\n",
              "      <th>4</th>\n",
              "      <td>20535.490</td>\n",
              "      <td>41.9500</td>\n",
              "      <td>26.3800</td>\n",
              "      <td>240.1657</td>\n",
              "      <td>0.2000</td>\n",
              "      <td>1.6856</td>\n",
              "      <td>1.3005</td>\n",
              "      <td>3.4241</td>\n",
              "      <td>20.9492</td>\n",
              "      <td>26.7869</td>\n",
              "      <td>18.6831</td>\n",
              "      <td>26.7960</td>\n",
              "      <td>NaN</td>\n",
              "      <td>18.0844</td>\n",
              "      <td>19.0424</td>\n",
              "      <td>23.9317</td>\n",
              "      <td>21.1555</td>\n",
              "      <td>NaN</td>\n",
              "      <td>NaN</td>\n",
              "    </tr>\n",
              "    <tr>\n",
              "      <th>...</th>\n",
              "      <td>...</td>\n",
              "      <td>...</td>\n",
              "      <td>...</td>\n",
              "      <td>...</td>\n",
              "      <td>...</td>\n",
              "      <td>...</td>\n",
              "      <td>...</td>\n",
              "      <td>...</td>\n",
              "      <td>...</td>\n",
              "      <td>...</td>\n",
              "      <td>...</td>\n",
              "      <td>...</td>\n",
              "      <td>...</td>\n",
              "      <td>...</td>\n",
              "      <td>...</td>\n",
              "      <td>...</td>\n",
              "      <td>...</td>\n",
              "      <td>...</td>\n",
              "      <td>...</td>\n",
              "    </tr>\n",
              "    <tr>\n",
              "      <th>9995</th>\n",
              "      <td>15167.720</td>\n",
              "      <td>48.6900</td>\n",
              "      <td>26.3800</td>\n",
              "      <td>240.0934</td>\n",
              "      <td>0.8990</td>\n",
              "      <td>0.0905</td>\n",
              "      <td>0.1426</td>\n",
              "      <td>0.1253</td>\n",
              "      <td>NaN</td>\n",
              "      <td>0.1229</td>\n",
              "      <td>NaN</td>\n",
              "      <td>0.1307</td>\n",
              "      <td>0.0996</td>\n",
              "      <td>NaN</td>\n",
              "      <td>NaN</td>\n",
              "      <td>NaN</td>\n",
              "      <td>0.1078</td>\n",
              "      <td>0.1011</td>\n",
              "      <td>0.1067</td>\n",
              "    </tr>\n",
              "    <tr>\n",
              "      <th>9996</th>\n",
              "      <td>42115.221</td>\n",
              "      <td>41.4100</td>\n",
              "      <td>26.3000</td>\n",
              "      <td>240.0404</td>\n",
              "      <td>0.2000</td>\n",
              "      <td>6.1407</td>\n",
              "      <td>3.5703</td>\n",
              "      <td>18.1072</td>\n",
              "      <td>37.4095</td>\n",
              "      <td>63.0524</td>\n",
              "      <td>59.3098</td>\n",
              "      <td>NaN</td>\n",
              "      <td>64.5356</td>\n",
              "      <td>47.9178</td>\n",
              "      <td>NaN</td>\n",
              "      <td>57.5565</td>\n",
              "      <td>55.4749</td>\n",
              "      <td>52.8453</td>\n",
              "      <td>61.1567</td>\n",
              "    </tr>\n",
              "    <tr>\n",
              "      <th>9997</th>\n",
              "      <td>NaN</td>\n",
              "      <td>NaN</td>\n",
              "      <td>26.5000</td>\n",
              "      <td>239.8236</td>\n",
              "      <td>0.2000</td>\n",
              "      <td>13.2774</td>\n",
              "      <td>7.7470</td>\n",
              "      <td>26.2677</td>\n",
              "      <td>29.0823</td>\n",
              "      <td>47.0253</td>\n",
              "      <td>43.9737</td>\n",
              "      <td>47.7780</td>\n",
              "      <td>56.4158</td>\n",
              "      <td>49.0530</td>\n",
              "      <td>54.8161</td>\n",
              "      <td>56.8068</td>\n",
              "      <td>51.8182</td>\n",
              "      <td>NaN</td>\n",
              "      <td>NaN</td>\n",
              "    </tr>\n",
              "    <tr>\n",
              "      <th>9998</th>\n",
              "      <td>42155.009</td>\n",
              "      <td>41.4100</td>\n",
              "      <td>NaN</td>\n",
              "      <td>239.9119</td>\n",
              "      <td>0.2000</td>\n",
              "      <td>30.3051</td>\n",
              "      <td>26.5940</td>\n",
              "      <td>51.8946</td>\n",
              "      <td>38.8066</td>\n",
              "      <td>62.5610</td>\n",
              "      <td>67.0156</td>\n",
              "      <td>68.5895</td>\n",
              "      <td>57.2171</td>\n",
              "      <td>57.9460</td>\n",
              "      <td>62.7987</td>\n",
              "      <td>62.4980</td>\n",
              "      <td>58.8007</td>\n",
              "      <td>57.7974</td>\n",
              "      <td>67.3181</td>\n",
              "    </tr>\n",
              "    <tr>\n",
              "      <th>9999</th>\n",
              "      <td>10203.142</td>\n",
              "      <td>33.9900</td>\n",
              "      <td>26.3800</td>\n",
              "      <td>239.9924</td>\n",
              "      <td>NaN</td>\n",
              "      <td>4.0292</td>\n",
              "      <td>2.1784</td>\n",
              "      <td>9.0485</td>\n",
              "      <td>27.3300</td>\n",
              "      <td>39.3142</td>\n",
              "      <td>34.2948</td>\n",
              "      <td>38.8829</td>\n",
              "      <td>48.8133</td>\n",
              "      <td>40.4067</td>\n",
              "      <td>49.2128</td>\n",
              "      <td>49.3620</td>\n",
              "      <td>NaN</td>\n",
              "      <td>40.0160</td>\n",
              "      <td>53.1748</td>\n",
              "    </tr>\n",
              "  </tbody>\n",
              "</table>\n",
              "<p>10000 rows × 19 columns</p>\n",
              "</div>\n",
              "      <button class=\"colab-df-convert\" onclick=\"convertToInteractive('df-26ca128f-df94-456f-9c6c-55c1927a3484')\"\n",
              "              title=\"Convert this dataframe to an interactive table.\"\n",
              "              style=\"display:none;\">\n",
              "        \n",
              "  <svg xmlns=\"http://www.w3.org/2000/svg\" height=\"24px\"viewBox=\"0 0 24 24\"\n",
              "       width=\"24px\">\n",
              "    <path d=\"M0 0h24v24H0V0z\" fill=\"none\"/>\n",
              "    <path d=\"M18.56 5.44l.94 2.06.94-2.06 2.06-.94-2.06-.94-.94-2.06-.94 2.06-2.06.94zm-11 1L8.5 8.5l.94-2.06 2.06-.94-2.06-.94L8.5 2.5l-.94 2.06-2.06.94zm10 10l.94 2.06.94-2.06 2.06-.94-2.06-.94-.94-2.06-.94 2.06-2.06.94z\"/><path d=\"M17.41 7.96l-1.37-1.37c-.4-.4-.92-.59-1.43-.59-.52 0-1.04.2-1.43.59L10.3 9.45l-7.72 7.72c-.78.78-.78 2.05 0 2.83L4 21.41c.39.39.9.59 1.41.59.51 0 1.02-.2 1.41-.59l7.78-7.78 2.81-2.81c.8-.78.8-2.07 0-2.86zM5.41 20L4 18.59l7.72-7.72 1.47 1.35L5.41 20z\"/>\n",
              "  </svg>\n",
              "      </button>\n",
              "      \n",
              "  <style>\n",
              "    .colab-df-container {\n",
              "      display:flex;\n",
              "      flex-wrap:wrap;\n",
              "      gap: 12px;\n",
              "    }\n",
              "\n",
              "    .colab-df-convert {\n",
              "      background-color: #E8F0FE;\n",
              "      border: none;\n",
              "      border-radius: 50%;\n",
              "      cursor: pointer;\n",
              "      display: none;\n",
              "      fill: #1967D2;\n",
              "      height: 32px;\n",
              "      padding: 0 0 0 0;\n",
              "      width: 32px;\n",
              "    }\n",
              "\n",
              "    .colab-df-convert:hover {\n",
              "      background-color: #E2EBFA;\n",
              "      box-shadow: 0px 1px 2px rgba(60, 64, 67, 0.3), 0px 1px 3px 1px rgba(60, 64, 67, 0.15);\n",
              "      fill: #174EA6;\n",
              "    }\n",
              "\n",
              "    [theme=dark] .colab-df-convert {\n",
              "      background-color: #3B4455;\n",
              "      fill: #D2E3FC;\n",
              "    }\n",
              "\n",
              "    [theme=dark] .colab-df-convert:hover {\n",
              "      background-color: #434B5C;\n",
              "      box-shadow: 0px 1px 3px 1px rgba(0, 0, 0, 0.15);\n",
              "      filter: drop-shadow(0px 1px 2px rgba(0, 0, 0, 0.3));\n",
              "      fill: #FFFFFF;\n",
              "    }\n",
              "  </style>\n",
              "\n",
              "      <script>\n",
              "        const buttonEl =\n",
              "          document.querySelector('#df-26ca128f-df94-456f-9c6c-55c1927a3484 button.colab-df-convert');\n",
              "        buttonEl.style.display =\n",
              "          google.colab.kernel.accessAllowed ? 'block' : 'none';\n",
              "\n",
              "        async function convertToInteractive(key) {\n",
              "          const element = document.querySelector('#df-26ca128f-df94-456f-9c6c-55c1927a3484');\n",
              "          const dataTable =\n",
              "            await google.colab.kernel.invokeFunction('convertToInteractive',\n",
              "                                                     [key], {});\n",
              "          if (!dataTable) return;\n",
              "\n",
              "          const docLinkHtml = 'Like what you see? Visit the ' +\n",
              "            '<a target=\"_blank\" href=https://colab.research.google.com/notebooks/data_table.ipynb>data table notebook</a>'\n",
              "            + ' to learn more about interactive tables.';\n",
              "          element.innerHTML = '';\n",
              "          dataTable['output_type'] = 'display_data';\n",
              "          await google.colab.output.renderOutput(dataTable, element);\n",
              "          const docLink = document.createElement('div');\n",
              "          docLink.innerHTML = docLinkHtml;\n",
              "          element.appendChild(docLink);\n",
              "        }\n",
              "      </script>\n",
              "    </div>\n",
              "  </div>\n",
              "  "
            ]
          },
          "metadata": {},
          "execution_count": 186
        }
      ]
    },
    {
      "cell_type": "markdown",
      "source": [
        "PROCESSING TEST DATA"
      ],
      "metadata": {
        "id": "KUUNdnd2b5Kh"
      }
    },
    {
      "cell_type": "code",
      "source": [
        "dd1= dd[['Time (s)','Humidity (%r.h.)',\t'Temperature (C)','R1 (MOhm)','R2 (MOhm)','R4 (MOhm)',\t'R5 (MOhm)',\t'R6 (MOhm)',\t'R7 (MOhm)',\t'R8 (MOhm)',\t'R9 (MOhm)',\t'R10 (MOhm)',\t'R11 (MOhm)',\t'R12 (MOhm)',\t'R13 (MOhm)',\t'R14 (MOhm)']]"
      ],
      "metadata": {
        "id": "0SbhHa7pBdYx"
      },
      "execution_count": null,
      "outputs": []
    },
    {
      "cell_type": "code",
      "source": [
        "dd1.isnull().sum()"
      ],
      "metadata": {
        "colab": {
          "base_uri": "https://localhost:8080/"
        },
        "id": "15Q-lpQy7Cfh",
        "outputId": "9838d168-a653-42fb-ff30-4f9eae79504b"
      },
      "execution_count": null,
      "outputs": [
        {
          "output_type": "execute_result",
          "data": {
            "text/plain": [
              "Time (s)               0\n",
              "Humidity (%r.h.)    1467\n",
              "Temperature (C)     1504\n",
              "R1 (MOhm)           1517\n",
              "R2 (MOhm)           1510\n",
              "R4 (MOhm)           1489\n",
              "R5 (MOhm)           1491\n",
              "R6 (MOhm)           1527\n",
              "R7 (MOhm)           1533\n",
              "R8 (MOhm)           1532\n",
              "R9 (MOhm)           1505\n",
              "R10 (MOhm)          1526\n",
              "R11 (MOhm)          1556\n",
              "R12 (MOhm)          1497\n",
              "R13 (MOhm)          1478\n",
              "R14 (MOhm)          1522\n",
              "dtype: int64"
            ]
          },
          "metadata": {},
          "execution_count": 223
        }
      ]
    },
    {
      "cell_type": "code",
      "source": [
        "time=dd1['Time (s)'].median()\n",
        "dd1['Time (s)'].fillna(time,inplace=True)"
      ],
      "metadata": {
        "id": "I8zWU6DU7GrN"
      },
      "execution_count": null,
      "outputs": []
    },
    {
      "cell_type": "code",
      "source": [
        "dd1.isnull().sum()"
      ],
      "metadata": {
        "colab": {
          "base_uri": "https://localhost:8080/"
        },
        "id": "AoPZFL-q7cO1",
        "outputId": "c995a2c6-aace-4a13-bf95-3e6c2d89fb29"
      },
      "execution_count": null,
      "outputs": [
        {
          "output_type": "execute_result",
          "data": {
            "text/plain": [
              "Time (s)               0\n",
              "Humidity (%r.h.)    1467\n",
              "Temperature (C)     1504\n",
              "R1 (MOhm)           1517\n",
              "R2 (MOhm)           1510\n",
              "R4 (MOhm)           1489\n",
              "R5 (MOhm)           1491\n",
              "R6 (MOhm)           1527\n",
              "R7 (MOhm)           1533\n",
              "R8 (MOhm)           1532\n",
              "R9 (MOhm)           1505\n",
              "R10 (MOhm)          1526\n",
              "R11 (MOhm)          1556\n",
              "R12 (MOhm)          1497\n",
              "R13 (MOhm)          1478\n",
              "R14 (MOhm)          1522\n",
              "dtype: int64"
            ]
          },
          "metadata": {},
          "execution_count": 225
        }
      ]
    },
    {
      "cell_type": "code",
      "source": [
        "dd1['Humidity (%r.h.)'].fillna(dd1['Humidity (%r.h.)'].mean(),inplace=True)"
      ],
      "metadata": {
        "id": "Nnkp5ao87eVX"
      },
      "execution_count": null,
      "outputs": []
    },
    {
      "cell_type": "code",
      "source": [
        "dd1['Temperature (C)'].fillna(dd1['Temperature (C)'].mean(),inplace=True)"
      ],
      "metadata": {
        "id": "9y3z4fd17sYG"
      },
      "execution_count": null,
      "outputs": []
    },
    {
      "cell_type": "code",
      "source": [
        "dd1['R14 (MOhm)'].fillna(dd1['R14 (MOhm)'].mean(),inplace=True)"
      ],
      "metadata": {
        "id": "xTII0szy73nn"
      },
      "execution_count": null,
      "outputs": []
    },
    {
      "cell_type": "code",
      "source": [
        "dd1['R13 (MOhm)'].fillna(dd1['R13 (MOhm)'].mean(),inplace=True)"
      ],
      "metadata": {
        "id": "eXgZVujm781e"
      },
      "execution_count": null,
      "outputs": []
    },
    {
      "cell_type": "code",
      "source": [
        "dd1['R12 (MOhm)'].fillna(dd1['R12 (MOhm)'].mean(),inplace=True)"
      ],
      "metadata": {
        "id": "lm5rfmKX7_PS"
      },
      "execution_count": null,
      "outputs": []
    },
    {
      "cell_type": "code",
      "source": [
        "dd1['R11 (MOhm)'].fillna(dd1['R11 (MOhm)'].mean(),inplace=True)"
      ],
      "metadata": {
        "id": "L5glTTRP8KUX"
      },
      "execution_count": null,
      "outputs": []
    },
    {
      "cell_type": "code",
      "source": [
        "dd1['R10 (MOhm)'].fillna(dd1['R10 (MOhm)'].mean(),inplace=True)"
      ],
      "metadata": {
        "id": "qJzfzGUu8Mk7"
      },
      "execution_count": null,
      "outputs": []
    },
    {
      "cell_type": "code",
      "source": [
        "dd1['R9 (MOhm)'].fillna(dd1['R9 (MOhm)'].mean(),inplace=True)"
      ],
      "metadata": {
        "id": "NX__gili8Ocl"
      },
      "execution_count": null,
      "outputs": []
    },
    {
      "cell_type": "code",
      "source": [
        "dd1['R8 (MOhm)'].fillna(dd1['R8 (MOhm)'].mean(),inplace=True)"
      ],
      "metadata": {
        "id": "1OyWe0Ul8SOL"
      },
      "execution_count": null,
      "outputs": []
    },
    {
      "cell_type": "code",
      "source": [
        "dd1['R7 (MOhm)'].fillna(dd1['R7 (MOhm)'].mean(),inplace=True)"
      ],
      "metadata": {
        "id": "4ZTCch-W8VSK"
      },
      "execution_count": null,
      "outputs": []
    },
    {
      "cell_type": "code",
      "source": [
        "dd1['R6 (MOhm)'].fillna(dd1['R6 (MOhm)'].mean(),inplace=True)"
      ],
      "metadata": {
        "id": "oa9GbcGP8Yhu"
      },
      "execution_count": null,
      "outputs": []
    },
    {
      "cell_type": "code",
      "source": [
        "dd1['R5 (MOhm)'].fillna(dd1['R5 (MOhm)'].mean(),inplace=True)"
      ],
      "metadata": {
        "id": "j-K9eO7s8av0"
      },
      "execution_count": null,
      "outputs": []
    },
    {
      "cell_type": "code",
      "source": [
        "dd1['R4 (MOhm)'].fillna(dd1['R4 (MOhm)'].mean(),inplace=True)"
      ],
      "metadata": {
        "id": "oW3uAZiB8dPa"
      },
      "execution_count": null,
      "outputs": []
    },
    {
      "cell_type": "code",
      "source": [
        "dd1['R2 (MOhm)'].fillna(dd1['R2 (MOhm)'].mean(),inplace=True)"
      ],
      "metadata": {
        "id": "4XHDk3WT8fc8"
      },
      "execution_count": null,
      "outputs": []
    },
    {
      "cell_type": "code",
      "source": [
        "dd1['R1 (MOhm)'].fillna(dd1['R1 (MOhm)'].mean(),inplace=True)"
      ],
      "metadata": {
        "id": "yh2Rva-_8jVv"
      },
      "execution_count": null,
      "outputs": []
    },
    {
      "cell_type": "code",
      "source": [
        "dd1.isnull().sum()"
      ],
      "metadata": {
        "colab": {
          "base_uri": "https://localhost:8080/"
        },
        "id": "s7e_wdWD8nOg",
        "outputId": "4c5c4d13-f75c-4ef4-a723-00213245df79"
      },
      "execution_count": null,
      "outputs": [
        {
          "output_type": "execute_result",
          "data": {
            "text/plain": [
              "Time (s)            0\n",
              "Humidity (%r.h.)    0\n",
              "Temperature (C)     0\n",
              "R1 (MOhm)           0\n",
              "R2 (MOhm)           0\n",
              "R4 (MOhm)           0\n",
              "R5 (MOhm)           0\n",
              "R6 (MOhm)           0\n",
              "R7 (MOhm)           0\n",
              "R8 (MOhm)           0\n",
              "R9 (MOhm)           0\n",
              "R10 (MOhm)          0\n",
              "R11 (MOhm)          0\n",
              "R12 (MOhm)          0\n",
              "R13 (MOhm)          0\n",
              "R14 (MOhm)          0\n",
              "dtype: int64"
            ]
          },
          "metadata": {},
          "execution_count": 254
        }
      ]
    },
    {
      "cell_type": "markdown",
      "source": [
        "PREDICTING"
      ],
      "metadata": {
        "id": "ZA5D69Ijb-xF"
      }
    },
    {
      "cell_type": "code",
      "source": [
        "predtest = knn_model.predict(dd1)"
      ],
      "metadata": {
        "id": "iuyPXQrn8qfp"
      },
      "execution_count": null,
      "outputs": []
    },
    {
      "cell_type": "code",
      "source": [
        "sub=pd.DataFrame(predtest,columns=['CO (ppm)'])"
      ],
      "metadata": {
        "id": "LTG18yfI9hwO"
      },
      "execution_count": null,
      "outputs": []
    },
    {
      "cell_type": "code",
      "source": [
        "sub"
      ],
      "metadata": {
        "colab": {
          "base_uri": "https://localhost:8080/",
          "height": 423
        },
        "id": "7ZkjuMSZ9xGl",
        "outputId": "2e4cbf76-57d2-49b3-8e84-783c2115fa40"
      },
      "execution_count": null,
      "outputs": [
        {
          "output_type": "execute_result",
          "data": {
            "text/plain": [
              "      CO (ppm)\n",
              "0        11.11\n",
              "1         2.22\n",
              "2        20.00\n",
              "3        15.56\n",
              "4        15.56\n",
              "...        ...\n",
              "9995     15.56\n",
              "9996      2.22\n",
              "9997     20.00\n",
              "9998      2.22\n",
              "9999      4.44\n",
              "\n",
              "[10000 rows x 1 columns]"
            ],
            "text/html": [
              "\n",
              "  <div id=\"df-270045de-c03a-4b36-a859-292fe876dbf0\">\n",
              "    <div class=\"colab-df-container\">\n",
              "      <div>\n",
              "<style scoped>\n",
              "    .dataframe tbody tr th:only-of-type {\n",
              "        vertical-align: middle;\n",
              "    }\n",
              "\n",
              "    .dataframe tbody tr th {\n",
              "        vertical-align: top;\n",
              "    }\n",
              "\n",
              "    .dataframe thead th {\n",
              "        text-align: right;\n",
              "    }\n",
              "</style>\n",
              "<table border=\"1\" class=\"dataframe\">\n",
              "  <thead>\n",
              "    <tr style=\"text-align: right;\">\n",
              "      <th></th>\n",
              "      <th>CO (ppm)</th>\n",
              "    </tr>\n",
              "  </thead>\n",
              "  <tbody>\n",
              "    <tr>\n",
              "      <th>0</th>\n",
              "      <td>11.11</td>\n",
              "    </tr>\n",
              "    <tr>\n",
              "      <th>1</th>\n",
              "      <td>2.22</td>\n",
              "    </tr>\n",
              "    <tr>\n",
              "      <th>2</th>\n",
              "      <td>20.00</td>\n",
              "    </tr>\n",
              "    <tr>\n",
              "      <th>3</th>\n",
              "      <td>15.56</td>\n",
              "    </tr>\n",
              "    <tr>\n",
              "      <th>4</th>\n",
              "      <td>15.56</td>\n",
              "    </tr>\n",
              "    <tr>\n",
              "      <th>...</th>\n",
              "      <td>...</td>\n",
              "    </tr>\n",
              "    <tr>\n",
              "      <th>9995</th>\n",
              "      <td>15.56</td>\n",
              "    </tr>\n",
              "    <tr>\n",
              "      <th>9996</th>\n",
              "      <td>2.22</td>\n",
              "    </tr>\n",
              "    <tr>\n",
              "      <th>9997</th>\n",
              "      <td>20.00</td>\n",
              "    </tr>\n",
              "    <tr>\n",
              "      <th>9998</th>\n",
              "      <td>2.22</td>\n",
              "    </tr>\n",
              "    <tr>\n",
              "      <th>9999</th>\n",
              "      <td>4.44</td>\n",
              "    </tr>\n",
              "  </tbody>\n",
              "</table>\n",
              "<p>10000 rows × 1 columns</p>\n",
              "</div>\n",
              "      <button class=\"colab-df-convert\" onclick=\"convertToInteractive('df-270045de-c03a-4b36-a859-292fe876dbf0')\"\n",
              "              title=\"Convert this dataframe to an interactive table.\"\n",
              "              style=\"display:none;\">\n",
              "        \n",
              "  <svg xmlns=\"http://www.w3.org/2000/svg\" height=\"24px\"viewBox=\"0 0 24 24\"\n",
              "       width=\"24px\">\n",
              "    <path d=\"M0 0h24v24H0V0z\" fill=\"none\"/>\n",
              "    <path d=\"M18.56 5.44l.94 2.06.94-2.06 2.06-.94-2.06-.94-.94-2.06-.94 2.06-2.06.94zm-11 1L8.5 8.5l.94-2.06 2.06-.94-2.06-.94L8.5 2.5l-.94 2.06-2.06.94zm10 10l.94 2.06.94-2.06 2.06-.94-2.06-.94-.94-2.06-.94 2.06-2.06.94z\"/><path d=\"M17.41 7.96l-1.37-1.37c-.4-.4-.92-.59-1.43-.59-.52 0-1.04.2-1.43.59L10.3 9.45l-7.72 7.72c-.78.78-.78 2.05 0 2.83L4 21.41c.39.39.9.59 1.41.59.51 0 1.02-.2 1.41-.59l7.78-7.78 2.81-2.81c.8-.78.8-2.07 0-2.86zM5.41 20L4 18.59l7.72-7.72 1.47 1.35L5.41 20z\"/>\n",
              "  </svg>\n",
              "      </button>\n",
              "      \n",
              "  <style>\n",
              "    .colab-df-container {\n",
              "      display:flex;\n",
              "      flex-wrap:wrap;\n",
              "      gap: 12px;\n",
              "    }\n",
              "\n",
              "    .colab-df-convert {\n",
              "      background-color: #E8F0FE;\n",
              "      border: none;\n",
              "      border-radius: 50%;\n",
              "      cursor: pointer;\n",
              "      display: none;\n",
              "      fill: #1967D2;\n",
              "      height: 32px;\n",
              "      padding: 0 0 0 0;\n",
              "      width: 32px;\n",
              "    }\n",
              "\n",
              "    .colab-df-convert:hover {\n",
              "      background-color: #E2EBFA;\n",
              "      box-shadow: 0px 1px 2px rgba(60, 64, 67, 0.3), 0px 1px 3px 1px rgba(60, 64, 67, 0.15);\n",
              "      fill: #174EA6;\n",
              "    }\n",
              "\n",
              "    [theme=dark] .colab-df-convert {\n",
              "      background-color: #3B4455;\n",
              "      fill: #D2E3FC;\n",
              "    }\n",
              "\n",
              "    [theme=dark] .colab-df-convert:hover {\n",
              "      background-color: #434B5C;\n",
              "      box-shadow: 0px 1px 3px 1px rgba(0, 0, 0, 0.15);\n",
              "      filter: drop-shadow(0px 1px 2px rgba(0, 0, 0, 0.3));\n",
              "      fill: #FFFFFF;\n",
              "    }\n",
              "  </style>\n",
              "\n",
              "      <script>\n",
              "        const buttonEl =\n",
              "          document.querySelector('#df-270045de-c03a-4b36-a859-292fe876dbf0 button.colab-df-convert');\n",
              "        buttonEl.style.display =\n",
              "          google.colab.kernel.accessAllowed ? 'block' : 'none';\n",
              "\n",
              "        async function convertToInteractive(key) {\n",
              "          const element = document.querySelector('#df-270045de-c03a-4b36-a859-292fe876dbf0');\n",
              "          const dataTable =\n",
              "            await google.colab.kernel.invokeFunction('convertToInteractive',\n",
              "                                                     [key], {});\n",
              "          if (!dataTable) return;\n",
              "\n",
              "          const docLinkHtml = 'Like what you see? Visit the ' +\n",
              "            '<a target=\"_blank\" href=https://colab.research.google.com/notebooks/data_table.ipynb>data table notebook</a>'\n",
              "            + ' to learn more about interactive tables.';\n",
              "          element.innerHTML = '';\n",
              "          dataTable['output_type'] = 'display_data';\n",
              "          await google.colab.output.renderOutput(dataTable, element);\n",
              "          const docLink = document.createElement('div');\n",
              "          docLink.innerHTML = docLinkHtml;\n",
              "          element.appendChild(docLink);\n",
              "        }\n",
              "      </script>\n",
              "    </div>\n",
              "  </div>\n",
              "  "
            ]
          },
          "metadata": {},
          "execution_count": 257
        }
      ]
    },
    {
      "cell_type": "code",
      "source": [
        "sub.to_csv(\"submission1.csv\",index=False)"
      ],
      "metadata": {
        "id": "j8EFiQky90Yg"
      },
      "execution_count": null,
      "outputs": []
    },
    {
      "cell_type": "code",
      "source": [],
      "metadata": {
        "id": "Vxq1IXxR95m5"
      },
      "execution_count": null,
      "outputs": []
    }
  ]
}